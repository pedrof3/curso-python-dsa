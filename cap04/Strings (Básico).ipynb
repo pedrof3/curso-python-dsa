{
 "cells": [
  {
   "cell_type": "code",
   "execution_count": 1,
   "id": "51df509f",
   "metadata": {},
   "outputs": [
    {
     "data": {
      "text/plain": [
       "'Pedro'"
      ]
     },
     "execution_count": 1,
     "metadata": {},
     "output_type": "execute_result"
    }
   ],
   "source": [
    "'Pedro'"
   ]
  },
  {
   "cell_type": "code",
   "execution_count": 2,
   "id": "f2645b8e",
   "metadata": {},
   "outputs": [
    {
     "data": {
      "text/plain": [
       "'Curso de Python'"
      ]
     },
     "execution_count": 2,
     "metadata": {},
     "output_type": "execute_result"
    }
   ],
   "source": [
    "\"Curso de Python\""
   ]
  },
  {
   "cell_type": "code",
   "execution_count": 3,
   "id": "57313d1b",
   "metadata": {},
   "outputs": [
    {
     "name": "stdout",
     "output_type": "stream",
     "text": [
      "Teste de saída\n"
     ]
    }
   ],
   "source": [
    "print(\"Teste de saída\")"
   ]
  },
  {
   "cell_type": "code",
   "execution_count": 4,
   "id": "80106cae",
   "metadata": {},
   "outputs": [
    {
     "name": "stdout",
     "output_type": "stream",
     "text": [
      "Um novo teste\n"
     ]
    }
   ],
   "source": [
    "print('Um novo teste')"
   ]
  },
  {
   "cell_type": "code",
   "execution_count": null,
   "id": "4b6d7f11",
   "metadata": {},
   "outputs": [],
   "source": []
  }
 ],
 "metadata": {
  "kernelspec": {
   "display_name": "Python 3 (ipykernel)",
   "language": "python",
   "name": "python3"
  },
  "language_info": {
   "codemirror_mode": {
    "name": "ipython",
    "version": 3
   },
   "file_extension": ".py",
   "mimetype": "text/x-python",
   "name": "python",
   "nbconvert_exporter": "python",
   "pygments_lexer": "ipython3",
   "version": "3.11.5"
  }
 },
 "nbformat": 4,
 "nbformat_minor": 5
}
