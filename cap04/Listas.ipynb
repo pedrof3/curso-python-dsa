{
 "cells": [
  {
   "cell_type": "markdown",
   "id": "c0edc211",
   "metadata": {},
   "source": [
    "# Listas em Python"
   ]
  },
  {
   "cell_type": "markdown",
   "id": "7ad6660c",
   "metadata": {},
   "source": [
    "### Declaração e tipo"
   ]
  },
  {
   "cell_type": "code",
   "execution_count": 22,
   "id": "22c0a7ef",
   "metadata": {},
   "outputs": [],
   "source": [
    "lista1 = [1, 3, 5, 7]"
   ]
  },
  {
   "cell_type": "code",
   "execution_count": 2,
   "id": "4903a391",
   "metadata": {
    "scrolled": false
   },
   "outputs": [
    {
     "data": {
      "text/plain": [
       "list"
      ]
     },
     "execution_count": 2,
     "metadata": {},
     "output_type": "execute_result"
    }
   ],
   "source": [
    "type(lista1)"
   ]
  },
  {
   "cell_type": "code",
   "execution_count": 23,
   "id": "8fd5c175",
   "metadata": {},
   "outputs": [],
   "source": [
    "lista2 = [99, 88, 77, 66]"
   ]
  },
  {
   "cell_type": "markdown",
   "id": "3567d31b",
   "metadata": {},
   "source": [
    "### Concatenação de listas"
   ]
  },
  {
   "cell_type": "code",
   "execution_count": 25,
   "id": "c0583877",
   "metadata": {},
   "outputs": [],
   "source": [
    "lista3 = lista1 + lista2"
   ]
  },
  {
   "cell_type": "code",
   "execution_count": 26,
   "id": "a2438109",
   "metadata": {},
   "outputs": [
    {
     "data": {
      "text/plain": [
       "[1, 3, 5, 7, 99, 88, 77, 66]"
      ]
     },
     "execution_count": 26,
     "metadata": {},
     "output_type": "execute_result"
    }
   ],
   "source": [
    "lista3"
   ]
  },
  {
   "cell_type": "code",
   "execution_count": 27,
   "id": "8a9f3390",
   "metadata": {},
   "outputs": [],
   "source": [
    "lista3[4] = 9"
   ]
  },
  {
   "cell_type": "code",
   "execution_count": 28,
   "id": "585e77c3",
   "metadata": {},
   "outputs": [
    {
     "data": {
      "text/plain": [
       "8"
      ]
     },
     "execution_count": 28,
     "metadata": {},
     "output_type": "execute_result"
    }
   ],
   "source": [
    "len(lista3)"
   ]
  },
  {
   "cell_type": "code",
   "execution_count": 29,
   "id": "494c9926",
   "metadata": {},
   "outputs": [
    {
     "data": {
      "text/plain": [
       "[1, 3, 5, 7, 9, 88, 77, 66]"
      ]
     },
     "execution_count": 29,
     "metadata": {},
     "output_type": "execute_result"
    }
   ],
   "source": [
    "lista3"
   ]
  },
  {
   "cell_type": "code",
   "execution_count": 30,
   "id": "24e55898",
   "metadata": {},
   "outputs": [],
   "source": [
    "lista3.append(21)"
   ]
  },
  {
   "cell_type": "code",
   "execution_count": 31,
   "id": "65ad1bf8",
   "metadata": {},
   "outputs": [
    {
     "data": {
      "text/plain": [
       "[1, 3, 5, 7, 9, 88, 77, 66, 21]"
      ]
     },
     "execution_count": 31,
     "metadata": {},
     "output_type": "execute_result"
    }
   ],
   "source": [
    "lista3\n"
   ]
  },
  {
   "cell_type": "code",
   "execution_count": 33,
   "id": "eb69632e",
   "metadata": {},
   "outputs": [],
   "source": [
    "lista3.insert(0, 'new0')"
   ]
  },
  {
   "cell_type": "code",
   "execution_count": 34,
   "id": "bb4517fe",
   "metadata": {},
   "outputs": [
    {
     "data": {
      "text/plain": [
       "['new0', 1, 3, 5, 7, 9, 88, 77, 66, 21]"
      ]
     },
     "execution_count": 34,
     "metadata": {},
     "output_type": "execute_result"
    }
   ],
   "source": [
    "lista3"
   ]
  },
  {
   "cell_type": "code",
   "execution_count": 35,
   "id": "c2aee92d",
   "metadata": {},
   "outputs": [],
   "source": [
    "lista_nomes = [\"Pedro\", \"Mila\"]"
   ]
  },
  {
   "cell_type": "code",
   "execution_count": 36,
   "id": "37ee5b77",
   "metadata": {},
   "outputs": [
    {
     "data": {
      "text/plain": [
       "['Pedro', 'Mila']"
      ]
     },
     "execution_count": 36,
     "metadata": {},
     "output_type": "execute_result"
    }
   ],
   "source": [
    "lista_nomes"
   ]
  },
  {
   "cell_type": "code",
   "execution_count": 38,
   "id": "aadabe66",
   "metadata": {},
   "outputs": [],
   "source": [
    "lista_nomes.extend([\"Paulo\", \"André\"])"
   ]
  },
  {
   "cell_type": "code",
   "execution_count": 39,
   "id": "d88355d5",
   "metadata": {},
   "outputs": [
    {
     "data": {
      "text/plain": [
       "['Pedro', 'Mila', 'Paulo', 'André']"
      ]
     },
     "execution_count": 39,
     "metadata": {},
     "output_type": "execute_result"
    }
   ],
   "source": [
    "lista_nomes"
   ]
  },
  {
   "cell_type": "code",
   "execution_count": null,
   "id": "fc5d6c4c",
   "metadata": {},
   "outputs": [],
   "source": []
  }
 ],
 "metadata": {
  "kernelspec": {
   "display_name": "Python 3 (ipykernel)",
   "language": "python",
   "name": "python3"
  },
  "language_info": {
   "codemirror_mode": {
    "name": "ipython",
    "version": 3
   },
   "file_extension": ".py",
   "mimetype": "text/x-python",
   "name": "python",
   "nbconvert_exporter": "python",
   "pygments_lexer": "ipython3",
   "version": "3.11.5"
  }
 },
 "nbformat": 4,
 "nbformat_minor": 5
}
