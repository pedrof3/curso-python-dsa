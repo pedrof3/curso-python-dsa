{
 "cells": [
  {
   "cell_type": "code",
   "execution_count": 1,
   "id": "d25cf3e2",
   "metadata": {},
   "outputs": [
    {
     "name": "stdout",
     "output_type": "stream",
     "text": [
      "Digite o 1° operando: 8\n",
      "Digite o operador*\n",
      "Digite o 2° operando: 2\n",
      "16\n"
     ]
    }
   ],
   "source": [
    "n1 = int(input(\"Digite o 1° operando: \"))\n",
    "op = input(\"Digite o operador\")\n",
    "n2 = int(input(\"Digite o 2° operando: \"))\n",
    "\n",
    "if op == \"+\":\n",
    "    print(n1 + n2)\n",
    "elif op == \"-\":\n",
    "    print(n1 - n2)\n",
    "elif op == \"*\":\n",
    "    print(n1 * n2)\n",
    "elif op == \"/\":\n",
    "    print(n1 / n2)"
   ]
  },
  {
   "cell_type": "code",
   "execution_count": null,
   "id": "c079fba1",
   "metadata": {},
   "outputs": [],
   "source": []
  }
 ],
 "metadata": {
  "kernelspec": {
   "display_name": "Python 3 (ipykernel)",
   "language": "python",
   "name": "python3"
  },
  "language_info": {
   "codemirror_mode": {
    "name": "ipython",
    "version": 3
   },
   "file_extension": ".py",
   "mimetype": "text/x-python",
   "name": "python",
   "nbconvert_exporter": "python",
   "pygments_lexer": "ipython3",
   "version": "3.11.5"
  }
 },
 "nbformat": 4,
 "nbformat_minor": 5
}
