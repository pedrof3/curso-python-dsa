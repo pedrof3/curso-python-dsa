{
 "cells": [
  {
   "cell_type": "markdown",
   "id": "4d43ddc0",
   "metadata": {},
   "source": [
    "# Algoritmo Bubble Sort"
   ]
  },
  {
   "cell_type": "markdown",
   "id": "11e759d4",
   "metadata": {},
   "source": [
    "Algortimo bubble usando a lógica de localizar o maior número da lista e troca-lo com o último, se o maior número da lista já está no final sua posição e desconsiderada na hora de localizar o pŕoximo maior valor da lista"
   ]
  },
  {
   "cell_type": "code",
   "execution_count": 7,
   "id": "39f8d848",
   "metadata": {},
   "outputs": [
    {
     "data": {
      "text/plain": [
       "[2, 4, 6, 8, 10, 16, 18, 20, 120]"
      ]
     },
     "execution_count": 7,
     "metadata": {},
     "output_type": "execute_result"
    }
   ],
   "source": [
    "vet1 = [20, 18, 4, 6, 120, 10, 8, 16, 2]\n",
    "\n",
    "def biggest(arr, tam):\n",
    "    maior = arr[0]\n",
    "    ind = 0\n",
    "    for i in range(1, tam):\n",
    "        if arr[i] > maior:\n",
    "            maior = arr[i]\n",
    "            ind = i\n",
    "    return ind\n",
    "\n",
    "def bsort(arr):\n",
    "    tam = len(arr)-1\n",
    "    \n",
    "    for i in range(tam, -1, -1):\n",
    "        maior = biggest(arr, i)\n",
    "        if arr[i] < arr[maior]:\n",
    "            arr[i], arr[maior] = arr[maior], arr[i]\n",
    "    return arr\n",
    "\n",
    "bsort(vet1)"
   ]
  },
  {
   "cell_type": "markdown",
   "id": "31238fc7",
   "metadata": {},
   "source": [
    "Porém, em Python há uma função built-in, que faz a mesma coisa, essa é a função sort"
   ]
  },
  {
   "cell_type": "code",
   "execution_count": 8,
   "id": "8de80d97",
   "metadata": {},
   "outputs": [],
   "source": [
    "vet2 = [80, 54, 2, 31, 45, 7, 20, 8, 43]\n",
    "vet2.sort()"
   ]
  },
  {
   "cell_type": "code",
   "execution_count": 9,
   "id": "12d5dad5",
   "metadata": {},
   "outputs": [
    {
     "data": {
      "text/plain": [
       "[2, 7, 8, 20, 31, 43, 45, 54, 80]"
      ]
     },
     "execution_count": 9,
     "metadata": {},
     "output_type": "execute_result"
    }
   ],
   "source": [
    "vet2"
   ]
  },
  {
   "cell_type": "code",
   "execution_count": null,
   "id": "2f58c1bc",
   "metadata": {},
   "outputs": [],
   "source": []
  }
 ],
 "metadata": {
  "kernelspec": {
   "display_name": "Python 3 (ipykernel)",
   "language": "python",
   "name": "python3"
  },
  "language_info": {
   "codemirror_mode": {
    "name": "ipython",
    "version": 3
   },
   "file_extension": ".py",
   "mimetype": "text/x-python",
   "name": "python",
   "nbconvert_exporter": "python",
   "pygments_lexer": "ipython3",
   "version": "3.11.5"
  }
 },
 "nbformat": 4,
 "nbformat_minor": 5
}
