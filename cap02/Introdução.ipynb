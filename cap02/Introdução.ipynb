{
 "cells": [
  {
   "cell_type": "markdown",
   "id": "31ee36eb",
   "metadata": {},
   "source": [
    "# Introdução"
   ]
  },
  {
   "cell_type": "markdown",
   "id": "a04b5227",
   "metadata": {},
   "source": [
    "### Função print imprime seu argumento na tela"
   ]
  },
  {
   "cell_type": "code",
   "execution_count": 1,
   "id": "d0307b51",
   "metadata": {
    "scrolled": true
   },
   "outputs": [
    {
     "name": "stdout",
     "output_type": "stream",
     "text": [
      "Olá mundo\n"
     ]
    }
   ],
   "source": [
    "print(\"Olá mundo\")"
   ]
  },
  {
   "cell_type": "markdown",
   "id": "8ef57b91",
   "metadata": {},
   "source": [
    "### Cria uma lista com inteiros no range de 1 a 10"
   ]
  },
  {
   "cell_type": "code",
   "execution_count": 3,
   "id": "2b7588dc",
   "metadata": {},
   "outputs": [
    {
     "name": "stdout",
     "output_type": "stream",
     "text": [
      "[1, 2, 3, 4, 5, 6, 7, 8, 9, 10]\n"
     ]
    }
   ],
   "source": [
    "arr = list(range(1, 11))\n",
    "print(arr)"
   ]
  },
  {
   "cell_type": "code",
   "execution_count": 4,
   "id": "9af92329",
   "metadata": {
    "scrolled": true
   },
   "outputs": [
    {
     "name": "stdout",
     "output_type": "stream",
     "text": [
      "1\n",
      "2\n",
      "3\n",
      "4\n",
      "5\n",
      "6\n",
      "7\n",
      "8\n",
      "9\n",
      "10\n"
     ]
    }
   ],
   "source": [
    "for num in arr:\n",
    "    print(num)"
   ]
  },
  {
   "cell_type": "code",
   "execution_count": 6,
   "id": "2d174bd2",
   "metadata": {},
   "outputs": [
    {
     "name": "stdout",
     "output_type": "stream",
     "text": [
      "Tipo da variável arr: <class 'list'>\n",
      "Tipo da variável num: <class 'int'>\n"
     ]
    }
   ],
   "source": [
    "print(f\"Tipo da variável arr: {type(arr)}\")\n",
    "print(f\"Tipo da variável num: {type(num)}\")"
   ]
  },
  {
   "cell_type": "markdown",
   "id": "bfe6357d",
   "metadata": {},
   "source": [
    "### Usando List Comprehension para printar os n° de um vetor menores que 15"
   ]
  },
  {
   "cell_type": "code",
   "execution_count": 5,
   "id": "7aa34c83",
   "metadata": {},
   "outputs": [
    {
     "name": "stdout",
     "output_type": "stream",
     "text": [
      "[0, 12, 2, 8, 3, 6, 12, 9]\n"
     ]
    }
   ],
   "source": [
    "vet = [0, 12, 40, 43, 2, 65, 8, 3, 6, 76, 12, 31, 9, 50]\n",
    "\n",
    "list_comp = [num for num in vet if num < 15]\n",
    "\n",
    "print(list_comp)"
   ]
  }
 ],
 "metadata": {
  "kernelspec": {
   "display_name": "Python 3 (ipykernel)",
   "language": "python",
   "name": "python3"
  },
  "language_info": {
   "codemirror_mode": {
    "name": "ipython",
    "version": 3
   },
   "file_extension": ".py",
   "mimetype": "text/x-python",
   "name": "python",
   "nbconvert_exporter": "python",
   "pygments_lexer": "ipython3",
   "version": "3.11.5"
  }
 },
 "nbformat": 4,
 "nbformat_minor": 5
}
