{
 "cells": [
  {
   "cell_type": "markdown",
   "id": "c5a1e2c7",
   "metadata": {},
   "source": [
    "# Objetos\n",
    "Em Python, tudo é um objeto"
   ]
  },
  {
   "cell_type": "code",
   "execution_count": 8,
   "id": "02b26900",
   "metadata": {},
   "outputs": [
    {
     "name": "stdout",
     "output_type": "stream",
     "text": [
      "<class 'str'>\n"
     ]
    }
   ],
   "source": [
    "# A variável curso é um objeto instânciado da classe 'str', ao printar seu type, isso fica evidente\n",
    "curso = \"Python para Análise de dados e Data Science\"\n",
    "print(type(curso))\n"
   ]
  },
  {
   "cell_type": "code",
   "execution_count": 9,
   "id": "fdc6062d",
   "metadata": {},
   "outputs": [
    {
     "name": "stdout",
     "output_type": "stream",
     "text": [
      "<class 'int'>\n",
      "<class 'float'>\n",
      "<class 'str'>\n",
      "<class 'list'>\n",
      "<class 'dict'>\n"
     ]
    }
   ],
   "source": [
    "print(type(10))\n",
    "print(type(0.65))\n",
    "print(type(\"string\"))\n",
    "print(type([]))\n",
    "print(type({}))"
   ]
  },
  {
   "cell_type": "code",
   "execution_count": null,
   "id": "3a2738db",
   "metadata": {},
   "outputs": [],
   "source": []
  }
 ],
 "metadata": {
  "kernelspec": {
   "display_name": "Python 3 (ipykernel)",
   "language": "python",
   "name": "python3"
  },
  "language_info": {
   "codemirror_mode": {
    "name": "ipython",
    "version": 3
   },
   "file_extension": ".py",
   "mimetype": "text/x-python",
   "name": "python",
   "nbconvert_exporter": "python",
   "pygments_lexer": "ipython3",
   "version": "3.11.5"
  }
 },
 "nbformat": 4,
 "nbformat_minor": 5
}
