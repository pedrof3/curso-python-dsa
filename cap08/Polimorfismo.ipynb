{
 "cells": [
  {
   "cell_type": "markdown",
   "id": "b7d7233a",
   "metadata": {},
   "source": [
    "# Polimorfismo\n",
    "O polimorfismo é um conceito fundamental na programação orientada a objetos que permite que objetos de diferentes classes sejam tratados de maneira uniforme. Em outras palavras, objetos de classes diferentes podem ser usados de forma intercambiável, desde que implementem métodos com a mesma assinatura."
   ]
  },
  {
   "cell_type": "code",
   "execution_count": 2,
   "id": "5fbae5fc",
   "metadata": {},
   "outputs": [],
   "source": [
    "# Super-classe\n",
    "class Veiculo:\n",
    "    \n",
    "     def __init__(self, marca, modelo):\n",
    "            self.marca = marca\n",
    "            self.modelo = modelo"
   ]
  },
  {
   "cell_type": "code",
   "execution_count": 4,
   "id": "2dd3a164",
   "metadata": {},
   "outputs": [],
   "source": [
    "#Sub-classes\n",
    "class Carro(Veiculo):\n",
    "    \n",
    "    def acelerar(self):\n",
    "        print(\"O carro está acelerando.\")\n",
    "        \n",
    "    def frear(self):\n",
    "        print(\"O carro está freando.\")\n",
    "        \n",
    "class Moto(Veiculo):\n",
    "    \n",
    "    def acelerar(self):\n",
    "        print(\"A moto está acelerando.\")\n",
    "        \n",
    "    def frear(self):\n",
    "        print(\"A moto está freando.\")\n",
    "        \n",
    "class Aviao(Veiculo):\n",
    "    \n",
    "    def acelerar(self):\n",
    "        print(\"O avião está acelerando.\")\n",
    "        \n",
    "    def frear(self):\n",
    "        print(\"O avião está freando.\")\n",
    "        \n",
    "    def decolar(self):\n",
    "        print(\"O avião está decolando.\")\n",
    "        \n",
    "    def pousar(self):\n",
    "        print(\"O avião está pousando.\")"
   ]
  },
  {
   "cell_type": "code",
   "execution_count": 5,
   "id": "e9194b1d",
   "metadata": {},
   "outputs": [],
   "source": [
    "lista_veiculos = [Carro(\"Lamborghini\", \"Urus\"), Moto(\"BMW\", \"F800\"), Aviao(\"Boeing\", \"777\")]"
   ]
  },
  {
   "cell_type": "code",
   "execution_count": 15,
   "id": "b5d22894",
   "metadata": {},
   "outputs": [
    {
     "name": "stdout",
     "output_type": "stream",
     "text": [
      "O carro está acelerando.\n",
      "O carro está freando.\n",
      "\n",
      "A moto está acelerando.\n",
      "A moto está freando.\n",
      "\n",
      "O avião está acelerando.\n",
      "O avião está freando.\n",
      "O avião está decolando.\n",
      "O avião está pousando.\n",
      "\n"
     ]
    }
   ],
   "source": [
    "for objeto in lista_veiculos:\n",
    "    objeto.acelerar()\n",
    "    objeto.frear()\n",
    "    \n",
    "    if hasattr(objeto, \"decolar\") == True:\n",
    "        objeto.decolar()\n",
    "        \n",
    "    if hasattr(objeto, \"pousar\") == True:\n",
    "        objeto.pousar()\n",
    "        \n",
    "    print(\"\")"
   ]
  },
  {
   "cell_type": "code",
   "execution_count": null,
   "id": "4203eea0",
   "metadata": {},
   "outputs": [],
   "source": []
  }
 ],
 "metadata": {
  "kernelspec": {
   "display_name": "Python 3 (ipykernel)",
   "language": "python",
   "name": "python3"
  },
  "language_info": {
   "codemirror_mode": {
    "name": "ipython",
    "version": 3
   },
   "file_extension": ".py",
   "mimetype": "text/x-python",
   "name": "python",
   "nbconvert_exporter": "python",
   "pygments_lexer": "ipython3",
   "version": "3.11.5"
  }
 },
 "nbformat": 4,
 "nbformat_minor": 5
}
