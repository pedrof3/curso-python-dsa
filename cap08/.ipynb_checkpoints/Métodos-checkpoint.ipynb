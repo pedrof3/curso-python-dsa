{
 "cells": [
  {
   "cell_type": "markdown",
   "id": "5ed013de",
   "metadata": {},
   "source": [
    "# Métodos\n",
    "São funções associadas a uma classe e seus objetos."
   ]
  },
  {
   "cell_type": "code",
   "execution_count": 22,
   "id": "d86792d9",
   "metadata": {},
   "outputs": [],
   "source": [
    "class Cachorro:\n",
    "        \n",
    "    def __init__(self, nome = \"caramelo\", peso = 5, raca = \"vira-lata\"):\n",
    "        self.nome = nome\n",
    "        self.peso = peso\n",
    "        self.raca = raca\n",
    "        \n",
    "    # Métodos setters são aqueles que passam algum valor para um atributo\n",
    "    # Métodos getters retornam o valor do atributo específicado no método\n",
    "    def set_nome(self, nome):\n",
    "        self.nome = nome\n",
    "        \n",
    "    def get_nome(self):\n",
    "        return self.nome\n",
    "    \n",
    "    def set_peso(self, peso):\n",
    "        self.peso = peso\n",
    "        \n",
    "    def get_peso(self):\n",
    "        return self.peso\n",
    "    \n",
    "    def set_raca(self, raca):\n",
    "        self.raca = raca\n",
    "        \n",
    "    def get_raca(self):\n",
    "        return self.raca"
   ]
  },
  {
   "cell_type": "code",
   "execution_count": 16,
   "id": "f9028cc1",
   "metadata": {},
   "outputs": [],
   "source": [
    "c1 = Cachorro()"
   ]
  },
  {
   "cell_type": "code",
   "execution_count": 17,
   "id": "38d86003",
   "metadata": {},
   "outputs": [
    {
     "name": "stdout",
     "output_type": "stream",
     "text": [
      "caramelo\n",
      "5\n",
      "vira-lata\n"
     ]
    }
   ],
   "source": [
    "print(c1.nome)\n",
    "print(c1.peso)\n",
    "print(c1.raca)"
   ]
  },
  {
   "cell_type": "code",
   "execution_count": 18,
   "id": "9b901199",
   "metadata": {},
   "outputs": [],
   "source": [
    "c1.set_nome(\"salino\")\n",
    "c1.set_peso(6)\n",
    "c1.set_raca(\"salsicha\")"
   ]
  },
  {
   "cell_type": "code",
   "execution_count": 21,
   "id": "cc2ae41d",
   "metadata": {},
   "outputs": [
    {
     "name": "stdout",
     "output_type": "stream",
     "text": [
      "salino\n",
      "6\n",
      "salsicha\n"
     ]
    }
   ],
   "source": [
    "print(c1.get_nome())\n",
    "print(c1.get_peso())\n",
    "print(c1.get_raca())"
   ]
  },
  {
   "cell_type": "code",
   "execution_count": null,
   "id": "21959451",
   "metadata": {},
   "outputs": [],
   "source": []
  }
 ],
 "metadata": {
  "kernelspec": {
   "display_name": "Python 3 (ipykernel)",
   "language": "python",
   "name": "python3"
  },
  "language_info": {
   "codemirror_mode": {
    "name": "ipython",
    "version": 3
   },
   "file_extension": ".py",
   "mimetype": "text/x-python",
   "name": "python",
   "nbconvert_exporter": "python",
   "pygments_lexer": "ipython3",
   "version": "3.11.5"
  }
 },
 "nbformat": 4,
 "nbformat_minor": 5
}
