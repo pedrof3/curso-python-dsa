{
 "cells": [
  {
   "cell_type": "markdown",
   "id": "e0583d9b",
   "metadata": {},
   "source": [
    "# Atributos\n",
    "São variáveis que armazenam dados associados a uma classe e seus objetos."
   ]
  },
  {
   "cell_type": "code",
   "execution_count": 12,
   "id": "9e0ab66b",
   "metadata": {},
   "outputs": [],
   "source": [
    "class Moto:\n",
    "    def __init__(self, modelo, cor, ano, cilindrada):\n",
    "        self.modelo = modelo\n",
    "        self.cor = cor\n",
    "        self.ano = ano\n",
    "        self.cilindrada = cilindrada\n",
    "        \n",
    "    def status(self):\n",
    "        return f\"{self.modelo} na cor {self.cor} e ano {self.ano} possui {self.cilindrada}cc\""
   ]
  },
  {
   "cell_type": "code",
   "execution_count": 13,
   "id": "5bc84b12",
   "metadata": {},
   "outputs": [
    {
     "data": {
      "text/plain": [
       "'Fazer na cor preta e ano 2018 possui 200cc'"
      ]
     },
     "execution_count": 13,
     "metadata": {},
     "output_type": "execute_result"
    }
   ],
   "source": [
    "m1 = Moto(\"Fazer\", \"preta\", 2018, 200)\n",
    "m1.status()"
   ]
  },
  {
   "cell_type": "code",
   "execution_count": 14,
   "id": "21c7db11",
   "metadata": {},
   "outputs": [
    {
     "data": {
      "text/plain": [
       "True"
      ]
     },
     "execution_count": 14,
     "metadata": {},
     "output_type": "execute_result"
    }
   ],
   "source": [
    "# Retorna se há o atributo passado no objeto passado por parâmetro\n",
    "hasattr(m1, \"cor\")"
   ]
  },
  {
   "cell_type": "code",
   "execution_count": 15,
   "id": "5f4b9143",
   "metadata": {},
   "outputs": [],
   "source": [
    "# Atribui ao atributo passado o valor também passado por parâmetro\n",
    "setattr(m1, \"cor\", \"vermelha\")"
   ]
  },
  {
   "cell_type": "code",
   "execution_count": 16,
   "id": "1bb66f8a",
   "metadata": {},
   "outputs": [
    {
     "data": {
      "text/plain": [
       "'vermelha'"
      ]
     },
     "execution_count": 16,
     "metadata": {},
     "output_type": "execute_result"
    }
   ],
   "source": [
    "# Retorna o valor do atributo\n",
    "getattr(m1, \"cor\")"
   ]
  },
  {
   "cell_type": "code",
   "execution_count": 17,
   "id": "cda6cc52",
   "metadata": {},
   "outputs": [],
   "source": [
    "# Deleta o atributo passado do objeto passado por parâmetro\n",
    "delattr(m1, \"cor\")"
   ]
  },
  {
   "cell_type": "code",
   "execution_count": 18,
   "id": "530cb1b8",
   "metadata": {},
   "outputs": [
    {
     "data": {
      "text/plain": [
       "False"
      ]
     },
     "execution_count": 18,
     "metadata": {},
     "output_type": "execute_result"
    }
   ],
   "source": [
    "hasattr(m1, \"cor\")"
   ]
  },
  {
   "cell_type": "code",
   "execution_count": null,
   "id": "fc8764aa",
   "metadata": {},
   "outputs": [],
   "source": []
  }
 ],
 "metadata": {
  "kernelspec": {
   "display_name": "Python 3 (ipykernel)",
   "language": "python",
   "name": "python3"
  },
  "language_info": {
   "codemirror_mode": {
    "name": "ipython",
    "version": 3
   },
   "file_extension": ".py",
   "mimetype": "text/x-python",
   "name": "python",
   "nbconvert_exporter": "python",
   "pygments_lexer": "ipython3",
   "version": "3.11.5"
  }
 },
 "nbformat": 4,
 "nbformat_minor": 5
}
