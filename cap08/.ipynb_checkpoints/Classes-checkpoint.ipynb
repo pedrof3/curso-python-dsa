{
 "cells": [
  {
   "cell_type": "markdown",
   "id": "7e3b0c3f",
   "metadata": {},
   "source": [
    "# Classes\n",
    "Em programação orientada a objetos (POO) em Python, as classes são usadas para criar objetos, que são instâncias dessa classe. As classes fornecem uma maneira de estruturar e organizar código de uma forma mais modular e reutilizável."
   ]
  },
  {
   "cell_type": "code",
   "execution_count": 1,
   "id": "a93987ab",
   "metadata": {},
   "outputs": [],
   "source": [
    "# Declaração de uma classe chamada Livro\n",
    "class Livro():\n",
    "    \n",
    "    # Esse método vai inicializar cada objeto criado a partir dessa classe\n",
    "    # (self) se refere a cada atributo da própria classe (e não de uma classe mãe, por exemplo)\n",
    "    def __init__(self):\n",
    "        \n",
    "        # Atributos são propriedades\n",
    "        self.titulo = \"O Pequene Príncipe\"\n",
    "        self.autor = \"Antoine de Saint-Exupéry\"\n",
    "        self.ano_lancamento = 1943\n",
    "        \n",
    "    def imprime(self):\n",
    "        print(f\"{self.titulo} é um livro lançado em {self.ano_lancamento}\")"
   ]
  },
  {
   "cell_type": "code",
   "execution_count": 2,
   "id": "dce4f189",
   "metadata": {},
   "outputs": [],
   "source": [
    "# Cria uma instância da classe Livro\n",
    "newL = Livro()"
   ]
  },
  {
   "cell_type": "code",
   "execution_count": 3,
   "id": "46423621",
   "metadata": {},
   "outputs": [
    {
     "data": {
      "text/plain": [
       "__main__.Livro"
      ]
     },
     "execution_count": 3,
     "metadata": {},
     "output_type": "execute_result"
    }
   ],
   "source": [
    "type(newL)"
   ]
  },
  {
   "cell_type": "code",
   "execution_count": 4,
   "id": "02ca84e6",
   "metadata": {},
   "outputs": [
    {
     "data": {
      "text/plain": [
       "'Antoine de Saint-Exupéry'"
      ]
     },
     "execution_count": 4,
     "metadata": {},
     "output_type": "execute_result"
    }
   ],
   "source": [
    "newL.autor"
   ]
  },
  {
   "cell_type": "code",
   "execution_count": 6,
   "id": "a987f3ea",
   "metadata": {},
   "outputs": [
    {
     "name": "stdout",
     "output_type": "stream",
     "text": [
      "O Pequene Príncipe é um livro lançado em 1943\n"
     ]
    }
   ],
   "source": [
    "newL.imprime()"
   ]
  },
  {
   "cell_type": "code",
   "execution_count": null,
   "id": "f397d68c",
   "metadata": {},
   "outputs": [],
   "source": []
  }
 ],
 "metadata": {
  "kernelspec": {
   "display_name": "Python 3 (ipykernel)",
   "language": "python",
   "name": "python3"
  },
  "language_info": {
   "codemirror_mode": {
    "name": "ipython",
    "version": 3
   },
   "file_extension": ".py",
   "mimetype": "text/x-python",
   "name": "python",
   "nbconvert_exporter": "python",
   "pygments_lexer": "ipython3",
   "version": "3.11.5"
  }
 },
 "nbformat": 4,
 "nbformat_minor": 5
}
