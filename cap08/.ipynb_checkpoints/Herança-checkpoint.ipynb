{
 "cells": [
  {
   "cell_type": "markdown",
   "id": "bc04c768",
   "metadata": {},
   "source": [
    "# Herança\n",
    "A herança permite que uma classe herde atributos e métodos de outra classe. Isso promove a reutilização de código."
   ]
  },
  {
   "cell_type": "code",
   "execution_count": 9,
   "id": "cfd31af6",
   "metadata": {},
   "outputs": [],
   "source": [
    "# A classe Animal atua como superclasse, seus atributos e métodos serão passados para suas classes filho\n",
    "class Animal:\n",
    "    \n",
    "    def __init__(self):\n",
    "        print(\"Animal criado\")\n",
    "        \n",
    "    def comer(self):\n",
    "        print(\"Hora de comer\")\n",
    "        \n",
    "    def emitir_som(self):\n",
    "        pass\n",
    "        \n",
    "# Cachorro e Gato são sub-classes de Animal\n",
    "class Cachorro(Animal):\n",
    "    \n",
    "    def __init__(self):\n",
    "        Animal.__init__(self)\n",
    "        print(\"Objeto cachorro criado\")\n",
    "        \n",
    "    def emitir_som(self):\n",
    "        print(\"au au au\")\n",
    "\n",
    "class Gato(Animal):\n",
    "    \n",
    "    def __init__(self):\n",
    "        Animal.__init__(self)\n",
    "        print(\"Objeto gato criado\")\n",
    "        \n",
    "    def emitir_som(self):\n",
    "        print(\"miau\")"
   ]
  },
  {
   "cell_type": "code",
   "execution_count": 10,
   "id": "33224aad",
   "metadata": {},
   "outputs": [
    {
     "name": "stdout",
     "output_type": "stream",
     "text": [
      "Animal criado\n",
      "Objeto cachorro criado\n"
     ]
    }
   ],
   "source": [
    "# Instância de um objeto a partir da classe 'Cachorro'\n",
    "c1 = Cachorro()"
   ]
  },
  {
   "cell_type": "code",
   "execution_count": 11,
   "id": "2bda4922",
   "metadata": {},
   "outputs": [
    {
     "name": "stdout",
     "output_type": "stream",
     "text": [
      "Animal criado\n",
      "Objeto gato criado\n"
     ]
    }
   ],
   "source": [
    "# Instância de um objeto a partir da classe 'Gato'\n",
    "\n",
    "g1 = Gato()"
   ]
  },
  {
   "cell_type": "code",
   "execution_count": 12,
   "id": "38dc1269",
   "metadata": {},
   "outputs": [
    {
     "name": "stdout",
     "output_type": "stream",
     "text": [
      "au au au\n"
     ]
    }
   ],
   "source": [
    "# Atributo 'emitir_som()' do objeto 'c1' objeto da classe 'Cachorro'\n",
    "c1.emitir_som()"
   ]
  },
  {
   "cell_type": "code",
   "execution_count": 13,
   "id": "d3c88167",
   "metadata": {},
   "outputs": [
    {
     "name": "stdout",
     "output_type": "stream",
     "text": [
      "miau\n"
     ]
    }
   ],
   "source": [
    "# Atributo 'emitir_som()' do objeto 'g1' objeto da classe 'Gato'\n",
    "g1.emitir_som()"
   ]
  },
  {
   "cell_type": "code",
   "execution_count": 14,
   "id": "4764b800",
   "metadata": {},
   "outputs": [
    {
     "name": "stdout",
     "output_type": "stream",
     "text": [
      "Hora de comer\n"
     ]
    }
   ],
   "source": [
    "# O atributo 'comer()' é herdado da classe pai 'Animal',\n",
    "# e não sofre alteração dentro das classes filho 'Cachorro' e 'Gato', por isso, permanece com o mesmo valor\n",
    "c1.comer()"
   ]
  },
  {
   "cell_type": "code",
   "execution_count": 15,
   "id": "61a8bf41",
   "metadata": {},
   "outputs": [
    {
     "name": "stdout",
     "output_type": "stream",
     "text": [
      "Hora de comer\n"
     ]
    }
   ],
   "source": [
    "g1.comer()"
   ]
  },
  {
   "cell_type": "code",
   "execution_count": null,
   "id": "079eb82c",
   "metadata": {},
   "outputs": [],
   "source": []
  }
 ],
 "metadata": {
  "kernelspec": {
   "display_name": "Python 3 (ipykernel)",
   "language": "python",
   "name": "python3"
  },
  "language_info": {
   "codemirror_mode": {
    "name": "ipython",
    "version": 3
   },
   "file_extension": ".py",
   "mimetype": "text/x-python",
   "name": "python",
   "nbconvert_exporter": "python",
   "pygments_lexer": "ipython3",
   "version": "3.11.5"
  }
 },
 "nbformat": 4,
 "nbformat_minor": 5
}
