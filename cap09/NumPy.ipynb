{
 "cells": [
  {
   "cell_type": "markdown",
   "id": "522d71f5",
   "metadata": {},
   "source": [
    "# NumPy\n",
    "https://numpy.org/"
   ]
  },
  {
   "cell_type": "code",
   "execution_count": 4,
   "id": "5fcfa3a0",
   "metadata": {},
   "outputs": [
    {
     "data": {
      "text/plain": [
       "'1.24.3'"
      ]
     },
     "execution_count": 4,
     "metadata": {},
     "output_type": "execute_result"
    }
   ],
   "source": [
    "import numpy as np\n",
    "np.__version__"
   ]
  },
  {
   "cell_type": "markdown",
   "id": "3ec62e1f",
   "metadata": {},
   "source": [
    "### Criando arrays Numpy"
   ]
  },
  {
   "cell_type": "code",
   "execution_count": 5,
   "id": "9951c371",
   "metadata": {},
   "outputs": [],
   "source": [
    "arr1 = np.array([8, 12, 18, 26, 29, 30])"
   ]
  },
  {
   "cell_type": "code",
   "execution_count": 6,
   "id": "758375e2",
   "metadata": {},
   "outputs": [
    {
     "data": {
      "text/plain": [
       "numpy.ndarray"
      ]
     },
     "execution_count": 6,
     "metadata": {},
     "output_type": "execute_result"
    }
   ],
   "source": [
    "type(arr1)"
   ]
  },
  {
   "cell_type": "code",
   "execution_count": 7,
   "id": "c38bf583",
   "metadata": {},
   "outputs": [
    {
     "data": {
      "text/plain": [
       "(6,)"
      ]
     },
     "execution_count": 7,
     "metadata": {},
     "output_type": "execute_result"
    }
   ],
   "source": [
    "arr1.shape"
   ]
  },
  {
   "cell_type": "markdown",
   "id": "5c13a89a",
   "metadata": {},
   "source": [
    "Um array NumPy, parte da biblioteca NumPy em Python, é uma estrutura de dados que representa uma grade de valores, todos do mesmo tipo. Esses arrays são eficientes para manipulação de dados numéricos, oferecendo operações otimizadas e suporte para cálculos vetorizados. Em comparação com listas Python, os arrays NumPy são homogêneos, significando que todos os elementos devem ter o mesmo tipo de dado. Eles são amplamente utilizados em computação científica, análise de dados e aprendizado de máquina, oferecendo desempenho superior em operações numéricas e funcionalidades específicas para tais tarefas."
   ]
  },
  {
   "cell_type": "markdown",
   "id": "583cffa4",
   "metadata": {},
   "source": [
    "### Indexação de arrays NumPy"
   ]
  },
  {
   "cell_type": "code",
   "execution_count": 10,
   "id": "5089e4e1",
   "metadata": {},
   "outputs": [],
   "source": [
    "# Cria uma lista com os valores ímpares de 1 a 5\n",
    "indices = [x for x in range(1, 6, 2)]"
   ]
  },
  {
   "cell_type": "code",
   "execution_count": 11,
   "id": "d7eccdc7",
   "metadata": {},
   "outputs": [
    {
     "data": {
      "text/plain": [
       "array([12, 26, 30])"
      ]
     },
     "execution_count": 11,
     "metadata": {},
     "output_type": "execute_result"
    }
   ],
   "source": [
    "# Retorna os itens do array NumPy, correspondentes aos valores de uma lista passada como parâmetro\n",
    "arr1[indices]"
   ]
  },
  {
   "cell_type": "code",
   "execution_count": 22,
   "id": "ccc1cf22",
   "metadata": {},
   "outputs": [
    {
     "name": "stdout",
     "output_type": "stream",
     "text": [
      "[ 8 12 18 26 29 30]\n",
      "[ True  True  True  True False  True]\n"
     ]
    }
   ],
   "source": [
    "# Retorna um array booleano, correspondente aos números pares do array usado de parâmetro\n",
    "mask = (arr1 % 2 == 0)\n",
    "print(arr1)\n",
    "print(mask)"
   ]
  },
  {
   "cell_type": "code",
   "execution_count": 24,
   "id": "913212b5",
   "metadata": {},
   "outputs": [
    {
     "data": {
      "text/plain": [
       "array([ 8, 12, 18, 26, 30])"
      ]
     },
     "execution_count": 24,
     "metadata": {},
     "output_type": "execute_result"
    }
   ],
   "source": [
    "# Retorno apenas os valores pares do array\n",
    "arr1[mask]"
   ]
  },
  {
   "cell_type": "markdown",
   "id": "0ceb490b",
   "metadata": {},
   "source": [
    "### Funções NumPy"
   ]
  },
  {
   "cell_type": "code",
   "execution_count": 25,
   "id": "bb61d548",
   "metadata": {},
   "outputs": [],
   "source": [
    "arr2 = np.array([1, 3, 5, 7, 9])"
   ]
  },
  {
   "cell_type": "code",
   "execution_count": 37,
   "id": "1eab1242",
   "metadata": {},
   "outputs": [
    {
     "data": {
      "text/plain": [
       "array([ 1,  4,  9, 16, 25])"
      ]
     },
     "execution_count": 37,
     "metadata": {},
     "output_type": "execute_result"
    }
   ],
   "source": [
    "# Retorna a soma cumulativa dos elementos do array\n",
    "arr2.cumsum()"
   ]
  },
  {
   "cell_type": "code",
   "execution_count": 38,
   "id": "1e0531e2",
   "metadata": {},
   "outputs": [
    {
     "data": {
      "text/plain": [
       "array([  1,   3,  15, 105, 945])"
      ]
     },
     "execution_count": 38,
     "metadata": {},
     "output_type": "execute_result"
    }
   ],
   "source": [
    "# Retorna o produto cumulativa dos elementos do array\n",
    "arr2.cumprod()"
   ]
  },
  {
   "cell_type": "code",
   "execution_count": 35,
   "id": "21eb53b5",
   "metadata": {},
   "outputs": [],
   "source": [
    "arr3 = np.arange(0, 250, 20)"
   ]
  },
  {
   "cell_type": "code",
   "execution_count": 36,
   "id": "adde57c6",
   "metadata": {},
   "outputs": [
    {
     "data": {
      "text/plain": [
       "array([  0,  20,  40,  60,  80, 100, 120, 140, 160, 180, 200, 220, 240])"
      ]
     },
     "execution_count": 36,
     "metadata": {},
     "output_type": "execute_result"
    }
   ],
   "source": [
    "arr3"
   ]
  },
  {
   "cell_type": "code",
   "execution_count": 39,
   "id": "c3760d56",
   "metadata": {},
   "outputs": [
    {
     "data": {
      "text/plain": [
       "dtype('int64')"
      ]
     },
     "execution_count": 39,
     "metadata": {},
     "output_type": "execute_result"
    }
   ],
   "source": [
    "arr3.dtype"
   ]
  },
  {
   "cell_type": "code",
   "execution_count": 41,
   "id": "b8146aca",
   "metadata": {},
   "outputs": [],
   "source": [
    "arr4 = np.zeros(8)"
   ]
  },
  {
   "cell_type": "code",
   "execution_count": 42,
   "id": "4affdca1",
   "metadata": {},
   "outputs": [
    {
     "data": {
      "text/plain": [
       "array([0., 0., 0., 0., 0., 0., 0., 0.])"
      ]
     },
     "execution_count": 42,
     "metadata": {},
     "output_type": "execute_result"
    }
   ],
   "source": [
    "arr4"
   ]
  },
  {
   "cell_type": "code",
   "execution_count": 43,
   "id": "7da07039",
   "metadata": {},
   "outputs": [],
   "source": [
    "arr5 = np.eye(5)"
   ]
  },
  {
   "cell_type": "code",
   "execution_count": 44,
   "id": "d8f2d312",
   "metadata": {},
   "outputs": [
    {
     "data": {
      "text/plain": [
       "array([[1., 0., 0., 0., 0.],\n",
       "       [0., 1., 0., 0., 0.],\n",
       "       [0., 0., 1., 0., 0.],\n",
       "       [0., 0., 0., 1., 0.],\n",
       "       [0., 0., 0., 0., 1.]])"
      ]
     },
     "execution_count": 44,
     "metadata": {},
     "output_type": "execute_result"
    }
   ],
   "source": [
    "arr5"
   ]
  },
  {
   "cell_type": "code",
   "execution_count": null,
   "id": "ef1d4ee0",
   "metadata": {},
   "outputs": [],
   "source": []
  }
 ],
 "metadata": {
  "kernelspec": {
   "display_name": "Python 3 (ipykernel)",
   "language": "python",
   "name": "python3"
  },
  "language_info": {
   "codemirror_mode": {
    "name": "ipython",
    "version": 3
   },
   "file_extension": ".py",
   "mimetype": "text/x-python",
   "name": "python",
   "nbconvert_exporter": "python",
   "pygments_lexer": "ipython3",
   "version": "3.11.5"
  }
 },
 "nbformat": 4,
 "nbformat_minor": 5
}
