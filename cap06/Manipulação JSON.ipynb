{
 "cells": [
  {
   "cell_type": "markdown",
   "id": "450dfa30",
   "metadata": {},
   "source": [
    "# Manipulação de arquivos JSON em Python"
   ]
  },
  {
   "cell_type": "code",
   "execution_count": 2,
   "id": "add0fc86",
   "metadata": {},
   "outputs": [],
   "source": [
    "me = {\n",
    "    \"name\": \"Pedro\",\n",
    "    \"yaer\": 2003,\n",
    "    \"country\": \"Brazil\"\n",
    "}"
   ]
  },
  {
   "cell_type": "code",
   "execution_count": 4,
   "id": "1c4f5fdd",
   "metadata": {},
   "outputs": [
    {
     "name": "stdout",
     "output_type": "stream",
     "text": [
      "name Pedro\n",
      "yaer 2003\n",
      "country Brazil\n"
     ]
    }
   ],
   "source": [
    "for k,v in me.items():\n",
    "    print(k, v)"
   ]
  },
  {
   "cell_type": "code",
   "execution_count": 5,
   "id": "0c009d8a",
   "metadata": {},
   "outputs": [],
   "source": [
    "import json"
   ]
  },
  {
   "cell_type": "code",
   "execution_count": 6,
   "id": "4058ab69",
   "metadata": {},
   "outputs": [
    {
     "data": {
      "text/plain": [
       "'{\"name\": \"Pedro\", \"yaer\": 2003, \"country\": \"Brazil\"}'"
      ]
     },
     "execution_count": 6,
     "metadata": {},
     "output_type": "execute_result"
    }
   ],
   "source": [
    "json.dumps(me)"
   ]
  },
  {
   "cell_type": "code",
   "execution_count": 7,
   "id": "8809f1e2",
   "metadata": {},
   "outputs": [],
   "source": [
    "with open(\"arquivos/dados.json\", \"w\") as file:\n",
    "    file.write(json.dumps(me))"
   ]
  },
  {
   "cell_type": "code",
   "execution_count": 8,
   "id": "106eafe9",
   "metadata": {},
   "outputs": [],
   "source": [
    "with open(\"arquivos/dados.json\", \"r\") as file:\n",
    "    text = file.read()\n",
    "    data = json.loads(text)"
   ]
  },
  {
   "cell_type": "code",
   "execution_count": 9,
   "id": "8c92798c",
   "metadata": {},
   "outputs": [
    {
     "data": {
      "text/plain": [
       "{'name': 'Pedro', 'yaer': 2003, 'country': 'Brazil'}"
      ]
     },
     "execution_count": 9,
     "metadata": {},
     "output_type": "execute_result"
    }
   ],
   "source": [
    "data"
   ]
  },
  {
   "cell_type": "code",
   "execution_count": 10,
   "id": "44e5e3c6",
   "metadata": {},
   "outputs": [
    {
     "data": {
      "text/plain": [
       "'Brazil'"
      ]
     },
     "execution_count": 10,
     "metadata": {},
     "output_type": "execute_result"
    }
   ],
   "source": [
    "data[\"country\"]"
   ]
  },
  {
   "cell_type": "code",
   "execution_count": null,
   "id": "568af746",
   "metadata": {},
   "outputs": [],
   "source": []
  }
 ],
 "metadata": {
  "kernelspec": {
   "display_name": "Python 3 (ipykernel)",
   "language": "python",
   "name": "python3"
  },
  "language_info": {
   "codemirror_mode": {
    "name": "ipython",
    "version": 3
   },
   "file_extension": ".py",
   "mimetype": "text/x-python",
   "name": "python",
   "nbconvert_exporter": "python",
   "pygments_lexer": "ipython3",
   "version": "3.11.5"
  }
 },
 "nbformat": 4,
 "nbformat_minor": 5
}
