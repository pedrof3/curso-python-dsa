{
 "cells": [
  {
   "cell_type": "markdown",
   "id": "229045ab",
   "metadata": {},
   "source": [
    "# Manipulação de arquivos em Python"
   ]
  },
  {
   "cell_type": "markdown",
   "id": "d23800ac",
   "metadata": {},
   "source": [
    "### Lendo arquivos"
   ]
  },
  {
   "cell_type": "code",
   "execution_count": 85,
   "id": "bd63a257",
   "metadata": {},
   "outputs": [],
   "source": [
    "file1 = open(\"arquivos/file1.txt\", \"r\")"
   ]
  },
  {
   "cell_type": "code",
   "execution_count": 86,
   "id": "c6b83781",
   "metadata": {
    "scrolled": true
   },
   "outputs": [
    {
     "data": {
      "text/plain": [
       "'Python é uma linguagem de programação de alto nível, interpretada, e de propósito geral. Ela foi criada por Guido van Rossum e teve sua primeira versão lançada em 1991. Python é conhecida por sua sintaxe clara, fácil legibilidade e versatilidade, o que a torna uma escolha popular para iniciantes e também para profissionais experientes em programação.'"
      ]
     },
     "execution_count": 86,
     "metadata": {},
     "output_type": "execute_result"
    }
   ],
   "source": [
    "file1.read()"
   ]
  },
  {
   "cell_type": "code",
   "execution_count": 87,
   "id": "8dd03c11",
   "metadata": {},
   "outputs": [
    {
     "data": {
      "text/plain": [
       "364"
      ]
     },
     "execution_count": 87,
     "metadata": {},
     "output_type": "execute_result"
    }
   ],
   "source": [
    "# Retorna o número de caracteres\n",
    "file1.tell()"
   ]
  },
  {
   "cell_type": "code",
   "execution_count": 88,
   "id": "9342075f",
   "metadata": {},
   "outputs": [
    {
     "data": {
      "text/plain": [
       "0"
      ]
     },
     "execution_count": 88,
     "metadata": {},
     "output_type": "execute_result"
    }
   ],
   "source": [
    "# Após ser lido, seu cursor para no final do arquivo, com seek, podemos setá-lo para o inicio novamente\n",
    "file1.seek(0, 0)"
   ]
  },
  {
   "cell_type": "code",
   "execution_count": 89,
   "id": "77d673a5",
   "metadata": {},
   "outputs": [
    {
     "data": {
      "text/plain": [
       "'Python é uma linguagem de programação de alto nível'"
      ]
     },
     "execution_count": 89,
     "metadata": {},
     "output_type": "execute_result"
    }
   ],
   "source": [
    "# Passando um valor como parâmetro para read(), será retornado o número de caracteres estipulados\n",
    "file1.read(51)"
   ]
  },
  {
   "cell_type": "markdown",
   "id": "10f1991e",
   "metadata": {},
   "source": [
    "### Escrevendo arquivos"
   ]
  },
  {
   "cell_type": "code",
   "execution_count": 102,
   "id": "e3de680b",
   "metadata": {},
   "outputs": [],
   "source": [
    "file2 = open(\"arquivos/file2.txt\", \"w\")"
   ]
  },
  {
   "cell_type": "code",
   "execution_count": 103,
   "id": "cc7f52e8",
   "metadata": {},
   "outputs": [
    {
     "data": {
      "text/plain": [
       "52"
      ]
     },
     "execution_count": 103,
     "metadata": {},
     "output_type": "execute_result"
    }
   ],
   "source": [
    "file2.write(\"Esse texto foi adicionado nesse arquivo via Python.\\n\")"
   ]
  },
  {
   "cell_type": "code",
   "execution_count": 104,
   "id": "74df333d",
   "metadata": {},
   "outputs": [
    {
     "ename": "UnsupportedOperation",
     "evalue": "not readable",
     "output_type": "error",
     "traceback": [
      "\u001b[0;31m---------------------------------------------------------------------------\u001b[0m",
      "\u001b[0;31mUnsupportedOperation\u001b[0m                      Traceback (most recent call last)",
      "Cell \u001b[0;32mIn[104], line 2\u001b[0m\n\u001b[1;32m      1\u001b[0m \u001b[38;5;66;03m# Quando um arquivo é abertro no modo de escrita (w), não podemos escrever seu conteúdo\u001b[39;00m\n\u001b[0;32m----> 2\u001b[0m file2\u001b[38;5;241m.\u001b[39mread()\n",
      "\u001b[0;31mUnsupportedOperation\u001b[0m: not readable"
     ]
    }
   ],
   "source": [
    "# Quando um arquivo é abertro no modo de escrita (w), não podemos escrever seu conteúdo\n",
    "file2.read()"
   ]
  },
  {
   "cell_type": "code",
   "execution_count": 105,
   "id": "a0c9e3ba",
   "metadata": {},
   "outputs": [],
   "source": [
    "file2.close()"
   ]
  },
  {
   "cell_type": "code",
   "execution_count": 106,
   "id": "259e9d9e",
   "metadata": {},
   "outputs": [],
   "source": [
    "file2 = open(\"arquivos/file2.txt\", \"r\")"
   ]
  },
  {
   "cell_type": "code",
   "execution_count": 107,
   "id": "cb91714e",
   "metadata": {},
   "outputs": [
    {
     "data": {
      "text/plain": [
       "'Esse texto foi adicionado nesse arquivo via Python.\\n'"
      ]
     },
     "execution_count": 107,
     "metadata": {},
     "output_type": "execute_result"
    }
   ],
   "source": [
    "file2.read()"
   ]
  },
  {
   "cell_type": "code",
   "execution_count": 108,
   "id": "b71c55da",
   "metadata": {},
   "outputs": [],
   "source": [
    "file2.close()"
   ]
  },
  {
   "cell_type": "code",
   "execution_count": 109,
   "id": "d740a15b",
   "metadata": {},
   "outputs": [],
   "source": [
    "file2 = open(\"arquivos/file2.txt\", \"a\")"
   ]
  },
  {
   "cell_type": "code",
   "execution_count": 110,
   "id": "4f35b5cb",
   "metadata": {},
   "outputs": [
    {
     "data": {
      "text/plain": [
       "98"
      ]
     },
     "execution_count": 110,
     "metadata": {},
     "output_type": "execute_result"
    }
   ],
   "source": [
    "file2.write(\"Já esse conteúdo, foi adicionado ao arquivo de texto usando o parâmetro 'a'(append) da função open\")"
   ]
  },
  {
   "cell_type": "code",
   "execution_count": 111,
   "id": "1c2ed147",
   "metadata": {},
   "outputs": [],
   "source": [
    "file2.close()"
   ]
  },
  {
   "cell_type": "code",
   "execution_count": 112,
   "id": "41aa4f3d",
   "metadata": {},
   "outputs": [],
   "source": [
    "file2 = open(\"arquivos/file2.txt\", \"r\")"
   ]
  },
  {
   "cell_type": "code",
   "execution_count": 113,
   "id": "b01ae268",
   "metadata": {},
   "outputs": [
    {
     "data": {
      "text/plain": [
       "\"Esse texto foi adicionado nesse arquivo via Python.\\nJá esse conteúdo, foi adicionado ao arquivo de texto usando o parâmetro 'a'(append) da função open\""
      ]
     },
     "execution_count": 113,
     "metadata": {},
     "output_type": "execute_result"
    }
   ],
   "source": [
    "file2.read()"
   ]
  },
  {
   "cell_type": "code",
   "execution_count": null,
   "id": "d8d8635b",
   "metadata": {},
   "outputs": [],
   "source": []
  },
  {
   "cell_type": "code",
   "execution_count": null,
   "id": "54658e4b",
   "metadata": {},
   "outputs": [],
   "source": []
  }
 ],
 "metadata": {
  "kernelspec": {
   "display_name": "Python 3 (ipykernel)",
   "language": "python",
   "name": "python3"
  },
  "language_info": {
   "codemirror_mode": {
    "name": "ipython",
    "version": 3
   },
   "file_extension": ".py",
   "mimetype": "text/x-python",
   "name": "python",
   "nbconvert_exporter": "python",
   "pygments_lexer": "ipython3",
   "version": "3.11.5"
  }
 },
 "nbformat": 4,
 "nbformat_minor": 5
}
