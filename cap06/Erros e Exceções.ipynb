{
 "cells": [
  {
   "cell_type": "markdown",
   "id": "2c298a1f",
   "metadata": {},
   "source": [
    "# Tratamento de Erros e Exceções"
   ]
  },
  {
   "cell_type": "code",
   "execution_count": null,
   "id": "73ab41f3",
   "metadata": {},
   "outputs": [],
   "source": [
    "name = \"Ana"
   ]
  },
  {
   "cell_type": "code",
   "execution_count": null,
   "id": "50796743",
   "metadata": {},
   "outputs": [],
   "source": [
    "x = 'a' + 10"
   ]
  },
  {
   "cell_type": "code",
   "execution_count": null,
   "id": "98b827ce",
   "metadata": {},
   "outputs": [],
   "source": [
    "try:\n",
    "    x = 'a' + 10\n",
    "except TypeError:\n",
    "    print(\"Operação inválida!\")"
   ]
  },
  {
   "cell_type": "code",
   "execution_count": null,
   "id": "1e8a7b50",
   "metadata": {},
   "outputs": [],
   "source": [
    "try:\n",
    "    x = 10 * 3.5\n",
    "except TypeError:\n",
    "    print(\"Operação inválida!\")\n",
    "else:\n",
    "    print(f\"Resultado: {x}\")"
   ]
  },
  {
   "cell_type": "code",
   "execution_count": 4,
   "id": "9f3c8ceb",
   "metadata": {},
   "outputs": [],
   "source": [
    "def checkInt():\n",
    "    while True:\n",
    "        try:\n",
    "            val = int(input(\"Digite um inteiro: \"))\n",
    "        except:\n",
    "            print(\"Dados inválidos, tente novamente\")\n",
    "            continue\n",
    "        else:\n",
    "            print(\"Valor fornecido\")\n",
    "            break\n",
    "        finally:\n",
    "            print(\"Fim da execução\")\n",
    "        print(val)"
   ]
  },
  {
   "cell_type": "code",
   "execution_count": 5,
   "id": "6d2be17e",
   "metadata": {},
   "outputs": [
    {
     "name": "stdout",
     "output_type": "stream",
     "text": [
      "Digite um inteiro: \n",
      "Dados inválidos, tente novamente\n",
      "Fim da execução\n",
      "Digite um inteiro: \n",
      "Dados inválidos, tente novamente\n",
      "Fim da execução\n",
      "Digite um inteiro: 4\n",
      "Valor fornecido\n",
      "Fim da execução\n"
     ]
    }
   ],
   "source": [
    "checkInt()"
   ]
  },
  {
   "cell_type": "code",
   "execution_count": null,
   "id": "15ec2f4d",
   "metadata": {},
   "outputs": [],
   "source": []
  }
 ],
 "metadata": {
  "kernelspec": {
   "display_name": "Python 3 (ipykernel)",
   "language": "python",
   "name": "python3"
  },
  "language_info": {
   "codemirror_mode": {
    "name": "ipython",
    "version": 3
   },
   "file_extension": ".py",
   "mimetype": "text/x-python",
   "name": "python",
   "nbconvert_exporter": "python",
   "pygments_lexer": "ipython3",
   "version": "3.11.5"
  }
 },
 "nbformat": 4,
 "nbformat_minor": 5
}
