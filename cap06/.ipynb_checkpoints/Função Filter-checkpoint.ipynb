{
 "cells": [
  {
   "cell_type": "markdown",
   "id": "2ef5789d",
   "metadata": {},
   "source": [
    "# Função Filter"
   ]
  },
  {
   "cell_type": "markdown",
   "id": "33336709",
   "metadata": {},
   "source": [
    "A função filter() em Python é usada para filtrar elementos de uma sequência (como uma lista) com base em uma função de teste. A função filter() retorna um iterador que produz apenas os elementos da sequência para os quais a função de teste retorna True."
   ]
  },
  {
   "cell_type": "code",
   "execution_count": 16,
   "id": "2f3db379",
   "metadata": {},
   "outputs": [],
   "source": [
    "# Função que verifica se um número é primo ou não\n",
    "\n",
    "def verificaPrimo(x):\n",
    "    for i in range(2, int(x ** 0.5 + 1)):\n",
    "        if x % i == 0:\n",
    "            return False\n",
    "    return True"
   ]
  },
  {
   "cell_type": "code",
   "execution_count": 13,
   "id": "3a052bd2",
   "metadata": {},
   "outputs": [],
   "source": [
    "lista = list(range(1, 21))"
   ]
  },
  {
   "cell_type": "code",
   "execution_count": 14,
   "id": "e191ba19",
   "metadata": {},
   "outputs": [
    {
     "data": {
      "text/plain": [
       "<filter at 0x74be84550070>"
      ]
     },
     "execution_count": 14,
     "metadata": {},
     "output_type": "execute_result"
    }
   ],
   "source": [
    "filter(verificaPrimo, lista)"
   ]
  },
  {
   "cell_type": "code",
   "execution_count": 15,
   "id": "f8db1509",
   "metadata": {},
   "outputs": [
    {
     "data": {
      "text/plain": [
       "[1, 2, 3, 5, 7, 11, 13, 17, 19]"
      ]
     },
     "execution_count": 15,
     "metadata": {},
     "output_type": "execute_result"
    }
   ],
   "source": [
    "list(filter(verificaPrimo, lista))"
   ]
  },
  {
   "cell_type": "code",
   "execution_count": null,
   "id": "e9ef9da1",
   "metadata": {},
   "outputs": [],
   "source": []
  }
 ],
 "metadata": {
  "kernelspec": {
   "display_name": "Python 3 (ipykernel)",
   "language": "python",
   "name": "python3"
  },
  "language_info": {
   "codemirror_mode": {
    "name": "ipython",
    "version": 3
   },
   "file_extension": ".py",
   "mimetype": "text/x-python",
   "name": "python",
   "nbconvert_exporter": "python",
   "pygments_lexer": "ipython3",
   "version": "3.11.5"
  }
 },
 "nbformat": 4,
 "nbformat_minor": 5
}
