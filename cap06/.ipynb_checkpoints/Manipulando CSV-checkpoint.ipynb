{
 "cells": [
  {
   "cell_type": "markdown",
   "id": "6cd41def",
   "metadata": {},
   "source": [
    "# Manipulando CSV"
   ]
  },
  {
   "cell_type": "markdown",
   "id": "380f77d8",
   "metadata": {},
   "source": [
    "Arquivos CSV (Comma-Separated Values) são uma forma comum de armazenar dados tabulares. Cada linha do arquivo representa uma linha da tabela, e os valores são separados por vírgulas (ou outro delimitador) para indicar as colunas."
   ]
  },
  {
   "cell_type": "code",
   "execution_count": 24,
   "id": "464161a8",
   "metadata": {},
   "outputs": [],
   "source": [
    "# O pacote csv permite a manipulação desse tipo de arquivo como se fosse um objeto com métodos e atributos\n",
    "\n",
    "import csv"
   ]
  },
  {
   "cell_type": "code",
   "execution_count": 25,
   "id": "3a9996a5",
   "metadata": {},
   "outputs": [],
   "source": [
    "# Csv.writer() para escrever no arquivo, e writerow() para passar os itens daquela linha\n",
    "\n",
    "with open(\"arquivos/file3.csv\", \"w\") as file:\n",
    "    writer = csv.writer(file)\n",
    "    writer.writerow((\"NOME\", \"ID\", \"SEXO\"))\n",
    "    writer.writerow((\"pedro\", 1, \"m\"))\n",
    "    writer.writerow((\"andré\", 2, \"m\"))\n",
    "    writer.writerow((\"mila\", 3, \"f\"))\n",
    "    writer.writerow((\"paulo\", 4, \"f\"))"
   ]
  },
  {
   "cell_type": "code",
   "execution_count": 26,
   "id": "e05d318f",
   "metadata": {},
   "outputs": [
    {
     "name": "stdout",
     "output_type": "stream",
     "text": [
      "['NOME', 'ID', 'SEXO']\n",
      "['pedro', '1', 'm']\n",
      "['andré', '2', 'm']\n",
      "['mila', '3', 'f']\n",
      "['paulo', '4', 'f']\n"
     ]
    }
   ],
   "source": [
    "# Csv.reader() para ler o conteúdo do arquivo, e um loop usado para mostrar o conteúdo de cada linha\n",
    "\n",
    "with open(\"arquivos/file3.csv\", \"r\", encoding=\"utf8\", newline=\"\\r\\n\") as arquivo:\n",
    "    data = csv.reader(arquivo)\n",
    "    for rows in data:\n",
    "        print(rows)"
   ]
  },
  {
   "cell_type": "code",
   "execution_count": 27,
   "id": "4305c905",
   "metadata": {},
   "outputs": [],
   "source": [
    "with open(\"arquivos/file3.csv\", \"r\") as file:\n",
    "    data = csv.reader(file)\n",
    "    data = list(data)"
   ]
  },
  {
   "cell_type": "code",
   "execution_count": 28,
   "id": "9aac282f",
   "metadata": {},
   "outputs": [
    {
     "data": {
      "text/plain": [
       "[['NOME', 'ID', 'SEXO'],\n",
       " ['pedro', '1', 'm'],\n",
       " ['andré', '2', 'm'],\n",
       " ['mila', '3', 'f'],\n",
       " ['paulo', '4', 'f']]"
      ]
     },
     "execution_count": 28,
     "metadata": {},
     "output_type": "execute_result"
    }
   ],
   "source": [
    "data"
   ]
  },
  {
   "cell_type": "code",
   "execution_count": null,
   "id": "a9094c98",
   "metadata": {},
   "outputs": [],
   "source": []
  }
 ],
 "metadata": {
  "kernelspec": {
   "display_name": "Python 3 (ipykernel)",
   "language": "python",
   "name": "python3"
  },
  "language_info": {
   "codemirror_mode": {
    "name": "ipython",
    "version": 3
   },
   "file_extension": ".py",
   "mimetype": "text/x-python",
   "name": "python",
   "nbconvert_exporter": "python",
   "pygments_lexer": "ipython3",
   "version": "3.11.5"
  }
 },
 "nbformat": 4,
 "nbformat_minor": 5
}
