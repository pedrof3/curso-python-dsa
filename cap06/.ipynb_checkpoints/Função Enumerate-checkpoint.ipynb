{
 "cells": [
  {
   "cell_type": "markdown",
   "id": "bc141339",
   "metadata": {},
   "source": [
    "# Função Enumerate"
   ]
  },
  {
   "cell_type": "markdown",
   "id": "dd93d275",
   "metadata": {},
   "source": [
    "A função enumerate() em Python é usada para iterar sobre uma sequência (como uma lista ou tupla) enquanto acompanha o índice (posição) de cada elemento. Isso é útil quando você precisa acessar tanto o valor quanto a posição de cada elemento durante a iteração."
   ]
  },
  {
   "cell_type": "code",
   "execution_count": 1,
   "id": "5e739e6e",
   "metadata": {},
   "outputs": [],
   "source": [
    "lista = [\"uva\", \"laranja\", \"abacaxi\"]"
   ]
  },
  {
   "cell_type": "code",
   "execution_count": 2,
   "id": "748bd143",
   "metadata": {},
   "outputs": [
    {
     "data": {
      "text/plain": [
       "<enumerate at 0x794f28068310>"
      ]
     },
     "execution_count": 2,
     "metadata": {},
     "output_type": "execute_result"
    }
   ],
   "source": [
    "enumerate(lista)"
   ]
  },
  {
   "cell_type": "code",
   "execution_count": 3,
   "id": "0801516a",
   "metadata": {},
   "outputs": [
    {
     "data": {
      "text/plain": [
       "[(0, 'uva'), (1, 'laranja'), (2, 'abacaxi')]"
      ]
     },
     "execution_count": 3,
     "metadata": {},
     "output_type": "execute_result"
    }
   ],
   "source": [
    "list(enumerate(lista))"
   ]
  },
  {
   "cell_type": "code",
   "execution_count": 6,
   "id": "e00e16bc",
   "metadata": {},
   "outputs": [
    {
     "name": "stdout",
     "output_type": "stream",
     "text": [
      "0 C\n",
      "1 i\n",
      "2 ê\n",
      "3 n\n",
      "4 c\n",
      "5 i\n",
      "6 a\n",
      "7  \n",
      "8 d\n",
      "9 e\n",
      "10  \n",
      "11 d\n",
      "12 a\n",
      "13 d\n",
      "14 o\n",
      "15 s\n",
      "16  \n",
      "17 c\n",
      "18 o\n",
      "19 m\n",
      "20  \n",
      "21 P\n",
      "22 y\n",
      "23 t\n",
      "24 h\n",
      "25 o\n",
      "26 n\n",
      "27 !\n"
     ]
    }
   ],
   "source": [
    "for i, letra in enumerate(\"Ciência de dados com Python!\"):\n",
    "    print(i, letra)"
   ]
  },
  {
   "cell_type": "code",
   "execution_count": 11,
   "id": "9e66f3fd",
   "metadata": {},
   "outputs": [
    {
     "name": "stdout",
     "output_type": "stream",
     "text": [
      "0 10\n",
      "1 20\n",
      "2 30\n",
      "3 40\n",
      "4 50\n",
      "5 60\n",
      "6 70\n",
      "7 80\n",
      "8 90\n",
      "9 100\n"
     ]
    }
   ],
   "source": [
    "for i, num in enumerate(list(range(10, 101, 10))):\n",
    "    print(i, num)"
   ]
  },
  {
   "cell_type": "code",
   "execution_count": null,
   "id": "b64fbeac",
   "metadata": {},
   "outputs": [],
   "source": []
  }
 ],
 "metadata": {
  "kernelspec": {
   "display_name": "Python 3 (ipykernel)",
   "language": "python",
   "name": "python3"
  },
  "language_info": {
   "codemirror_mode": {
    "name": "ipython",
    "version": 3
   },
   "file_extension": ".py",
   "mimetype": "text/x-python",
   "name": "python",
   "nbconvert_exporter": "python",
   "pygments_lexer": "ipython3",
   "version": "3.11.5"
  }
 },
 "nbformat": 4,
 "nbformat_minor": 5
}
