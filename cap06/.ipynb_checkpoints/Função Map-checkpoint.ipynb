{
 "cells": [
  {
   "cell_type": "markdown",
   "id": "1d31c8d1",
   "metadata": {},
   "source": [
    "# Função Map"
   ]
  },
  {
   "cell_type": "markdown",
   "id": "77cdfe5f",
   "metadata": {},
   "source": [
    "Em Python, a função map() é usada para aplicar uma função a cada item de uma sequência (como uma lista ou tupla) e retornar um iterador que produz os resultados."
   ]
  },
  {
   "cell_type": "code",
   "execution_count": 12,
   "id": "bb613c14",
   "metadata": {},
   "outputs": [],
   "source": [
    "# Cria uma lista com os valores de 0 a 9\n",
    "lista = list(range(10))\n",
    "\n",
    "# A função map() foi usada para iterar à lista inicial uma função lambda, que por sua vez,\n",
    "# retorna o valor recebido multiplicado por 2,5\n",
    "lista_mult = list(map((lambda x: x * 2.5), lista))"
   ]
  },
  {
   "cell_type": "code",
   "execution_count": 13,
   "id": "12c09cd8",
   "metadata": {},
   "outputs": [
    {
     "data": {
      "text/plain": [
       "[0, 1, 2, 3, 4, 5, 6, 7, 8, 9]"
      ]
     },
     "execution_count": 13,
     "metadata": {},
     "output_type": "execute_result"
    }
   ],
   "source": [
    "lista"
   ]
  },
  {
   "cell_type": "code",
   "execution_count": 14,
   "id": "081ed4f7",
   "metadata": {},
   "outputs": [
    {
     "data": {
      "text/plain": [
       "[0.0, 2.5, 5.0, 7.5, 10.0, 12.5, 15.0, 17.5, 20.0, 22.5]"
      ]
     },
     "execution_count": 14,
     "metadata": {},
     "output_type": "execute_result"
    }
   ],
   "source": [
    "lista_mult"
   ]
  },
  {
   "cell_type": "code",
   "execution_count": 36,
   "id": "b8ff76cb",
   "metadata": {},
   "outputs": [],
   "source": [
    "# A função map() é um iterador, ou seja, \n",
    "lista_soma = map((lambda x: x + 5), lista_mult)"
   ]
  },
  {
   "cell_type": "code",
   "execution_count": 37,
   "id": "d4481f65",
   "metadata": {},
   "outputs": [
    {
     "name": "stdout",
     "output_type": "stream",
     "text": [
      "5.0\n",
      "7.5\n",
      "10.0\n",
      "12.5\n",
      "15.0\n",
      "17.5\n",
      "20.0\n",
      "22.5\n",
      "25.0\n",
      "27.5\n"
     ]
    }
   ],
   "source": [
    "for num in lista_soma:\n",
    "    print(num)"
   ]
  },
  {
   "cell_type": "code",
   "execution_count": null,
   "id": "c9c905e1",
   "metadata": {},
   "outputs": [],
   "source": []
  }
 ],
 "metadata": {
  "kernelspec": {
   "display_name": "Python 3 (ipykernel)",
   "language": "python",
   "name": "python3"
  },
  "language_info": {
   "codemirror_mode": {
    "name": "ipython",
    "version": 3
   },
   "file_extension": ".py",
   "mimetype": "text/x-python",
   "name": "python",
   "nbconvert_exporter": "python",
   "pygments_lexer": "ipython3",
   "version": "3.11.5"
  }
 },
 "nbformat": 4,
 "nbformat_minor": 5
}
