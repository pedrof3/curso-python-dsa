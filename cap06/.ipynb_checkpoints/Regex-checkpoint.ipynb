{
 "cells": [
  {
   "cell_type": "markdown",
   "id": "258ac262",
   "metadata": {},
   "source": [
    "# Regex\n",
    "Expressões regulares (também conhecidas como regex ou regexp) são sequências de caracteres que formam um padrão de busca. Elas são utilizadas para buscar, validar e manipular texto com base nesse padrão. As expressões regulares fornecem uma poderosa linguagem para especificar padrões de texto de maneira concisa e flexível."
   ]
  },
  {
   "cell_type": "code",
   "execution_count": 18,
   "id": "e0b66aae",
   "metadata": {},
   "outputs": [],
   "source": [
    "import re"
   ]
  },
  {
   "cell_type": "code",
   "execution_count": 19,
   "id": "3e1fc19f",
   "metadata": {},
   "outputs": [],
   "source": [
    "texto = \"Eu bebo café todos os dias\""
   ]
  },
  {
   "cell_type": "code",
   "execution_count": 20,
   "id": "f61a87df",
   "metadata": {},
   "outputs": [],
   "source": [
    "# Nos mostra a quantidade de ocorrências do argumento passado\n",
    "resultado = len(re.findall(\"o\", texto))"
   ]
  },
  {
   "cell_type": "code",
   "execution_count": 21,
   "id": "a6133dda",
   "metadata": {},
   "outputs": [
    {
     "data": {
      "text/plain": [
       "4"
      ]
     },
     "execution_count": 21,
     "metadata": {},
     "output_type": "execute_result"
    }
   ],
   "source": [
    "resultado"
   ]
  },
  {
   "cell_type": "code",
   "execution_count": 22,
   "id": "bf483d56",
   "metadata": {},
   "outputs": [],
   "source": [
    "# Procura por ocorrências de palavras seguintes à palavra passado como parâmetro\n",
    "resultado = re.findall(r'bebo (\\w+)', texto)"
   ]
  },
  {
   "cell_type": "code",
   "execution_count": 23,
   "id": "a2bf0e8a",
   "metadata": {},
   "outputs": [
    {
     "data": {
      "text/plain": [
       "['café']"
      ]
     },
     "execution_count": 23,
     "metadata": {},
     "output_type": "execute_result"
    }
   ],
   "source": [
    "resultado"
   ]
  },
  {
   "cell_type": "code",
   "execution_count": 28,
   "id": "5b6bcc71",
   "metadata": {},
   "outputs": [],
   "source": [
    "# Regex capaz de identificar contas de email em uma string\n",
    "texto_emails = \"Eu possuo duas contas de email, a principal é: regex.py@gmail.com. E a outra py.datasci@outlook.com\""
   ]
  },
  {
   "cell_type": "code",
   "execution_count": 29,
   "id": "d9c37528",
   "metadata": {},
   "outputs": [],
   "source": [
    "emails = re.findall(r'\\b[A-Za-z0-9._%+-]+@[A-Za-z0-9.-]+\\.[A-Z|a-z]{2,}\\b', texto_emails)"
   ]
  },
  {
   "cell_type": "code",
   "execution_count": 30,
   "id": "a5f53811",
   "metadata": {},
   "outputs": [
    {
     "data": {
      "text/plain": [
       "['regex.py@gmail.com', 'py.datasci@outlook.com']"
      ]
     },
     "execution_count": 30,
     "metadata": {},
     "output_type": "execute_result"
    }
   ],
   "source": [
    "emails"
   ]
  },
  {
   "cell_type": "code",
   "execution_count": null,
   "id": "8c2216ae",
   "metadata": {},
   "outputs": [],
   "source": []
  }
 ],
 "metadata": {
  "kernelspec": {
   "display_name": "Python 3 (ipykernel)",
   "language": "python",
   "name": "python3"
  },
  "language_info": {
   "codemirror_mode": {
    "name": "ipython",
    "version": 3
   },
   "file_extension": ".py",
   "mimetype": "text/x-python",
   "name": "python",
   "nbconvert_exporter": "python",
   "pygments_lexer": "ipython3",
   "version": "3.11.5"
  }
 },
 "nbformat": 4,
 "nbformat_minor": 5
}
