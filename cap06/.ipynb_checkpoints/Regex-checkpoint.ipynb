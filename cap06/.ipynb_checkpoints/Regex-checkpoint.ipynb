{
 "cells": [
  {
   "cell_type": "markdown",
   "id": "258ac262",
   "metadata": {},
   "source": [
    "# Regex\n",
    "Expressões regulares (também conhecidas como regex ou regexp) são sequências de caracteres que formam um padrão de busca. Elas são utilizadas para buscar, validar e manipular texto com base nesse padrão. As expressões regulares fornecem uma poderosa linguagem para especificar padrões de texto de maneira concisa e flexível."
   ]
  },
  {
   "cell_type": "code",
   "execution_count": 146,
   "id": "e0b66aae",
   "metadata": {},
   "outputs": [],
   "source": [
    "import re"
   ]
  },
  {
   "cell_type": "code",
   "execution_count": 147,
   "id": "3e1fc19f",
   "metadata": {},
   "outputs": [],
   "source": [
    "texto = \"Eu bebo café todos os dias\""
   ]
  },
  {
   "cell_type": "code",
   "execution_count": 148,
   "id": "f61a87df",
   "metadata": {},
   "outputs": [],
   "source": [
    "# Nos mostra a quantidade de ocorrências do argumento passado\n",
    "resultado = len(re.findall(\"o\", texto))"
   ]
  },
  {
   "cell_type": "code",
   "execution_count": 149,
   "id": "a6133dda",
   "metadata": {},
   "outputs": [
    {
     "data": {
      "text/plain": [
       "4"
      ]
     },
     "execution_count": 149,
     "metadata": {},
     "output_type": "execute_result"
    }
   ],
   "source": [
    "resultado"
   ]
  },
  {
   "cell_type": "code",
   "execution_count": 150,
   "id": "bf483d56",
   "metadata": {},
   "outputs": [],
   "source": [
    "# Procura por ocorrências de palavras seguintes à palavra passado como parâmetro\n",
    "resultado = re.findall(r'bebo (\\w+)', texto)"
   ]
  },
  {
   "cell_type": "code",
   "execution_count": 151,
   "id": "a2bf0e8a",
   "metadata": {},
   "outputs": [
    {
     "data": {
      "text/plain": [
       "['café']"
      ]
     },
     "execution_count": 151,
     "metadata": {},
     "output_type": "execute_result"
    }
   ],
   "source": [
    "resultado"
   ]
  },
  {
   "cell_type": "code",
   "execution_count": 152,
   "id": "5b6bcc71",
   "metadata": {},
   "outputs": [],
   "source": [
    "# Regex capaz de identificar contas de email em uma string\n",
    "texto_emails = \"Eu possuo duas contas de email, a principal é: regex.py@gmail.com. E a outra py.datasci@outlook.com\""
   ]
  },
  {
   "cell_type": "code",
   "execution_count": 153,
   "id": "d9c37528",
   "metadata": {},
   "outputs": [],
   "source": [
    "emails = re.findall(r'\\b[A-Za-z0-9._%+-]+@[A-Za-z0-9.-]+\\.[A-Z|a-z]{2,}\\b', texto_emails)"
   ]
  },
  {
   "cell_type": "code",
   "execution_count": 154,
   "id": "a5f53811",
   "metadata": {},
   "outputs": [
    {
     "data": {
      "text/plain": [
       "['regex.py@gmail.com', 'py.datasci@outlook.com']"
      ]
     },
     "execution_count": 154,
     "metadata": {},
     "output_type": "execute_result"
    }
   ],
   "source": [
    "emails"
   ]
  },
  {
   "cell_type": "code",
   "execution_count": 155,
   "id": "a2053ad1",
   "metadata": {},
   "outputs": [],
   "source": [
    "musica = '''\n",
    "Tô correndo atrás de tudo aquilo que esse mundo tem pra me dar\n",
    "O que essa vida tem pra me dar?\n",
    "E a falta do básico, nos fez querer ter mais que o necessário\n",
    "Salário baixo e sonhos de um milionário\n",
    "Meu desejo virou meu adversário\n",
    "Castelos imaginários, personagens e cenários\n",
    "Navegar sem naufragar por esses mares\n",
    "Na executiva o sorriso da comissária\n",
    "Viver pouco como um rei ou muito como um zé?\n",
    "Essa eu ainda não sei responder\n",
    "O porco com a lei e eu seguindo na fé\n",
    "De que ele nunca vai me prender\n",
    "Nunca vou me submeter\n",
    "Nunca vão me deter, éramos as cinzas e agora somos o fogo\n",
    "E não a nada que eu não possa fazer\n",
    "Tem coisas que só acredito vendo\n",
    "Coisas que nem acredito que tô vendo\n",
    "Ver e ficar quieto, a rua tem dois mandamentos\n",
    "Uns ficam de olho nos rendimentos\n",
    "Já é tarde pra seu arrependimento\n",
    "Pra abrir sua mente não sou cirurgião\n",
    "Mas sei qual é o procedimento\n",
    "Quando criança eu sonhava em crescer e ter todo o melhor dessa vida\n",
    "Hoje sou um homem crescido, e a criança em mim ainda é viva\n",
    "A vida é um filme de ação, de terror ou de tragédia\n",
    "Eu só não posso ter um fim de comédia e vice-versa\n",
    "Vitorioso e não um vice que versa\n",
    "Heróis vestem capa, salvam pátrias detém balas\n",
    "Medalhas de prata não valem nada\n",
    "Batalhas são quadros de um passado inalterado\n",
    "E o que resta sempre são quadros\n",
    "Os copos gelados, trazem corpos gelados à tona\n",
    "Dizem que a morte é o preço da honra, eu não sei\n",
    "Homens seguem leis, e mesmo assim morrem por causa das leis\n",
    "Vi um homem de muitos quilos morrendo por poucas gramas\n",
    "Vi um homem desconhecido morrendo atrás de fama\n",
    "Um homem morrer de amor pela mulher que não o ama\n",
    "De um quadro grave faço quadro de arte\n",
    "Rimando a vida somos a voz da cidade\n",
    "Que nos divide em facções, drogas e armas\n",
    "Broncas e áreas\n",
    "Temos um jeito de nascer, mais de 1000 pra morrer\n",
    "E quem ta preparado para o qual vai ser?\n",
    "Robocop é o herói só na TV, então nem sempre a arte imita a vida\n",
    "Sobre o que ninguém vai falar, só nós podemos falar\n",
    "Começar uma nova e terminar uma antiga briga\n",
    "E a situação não muda, vocês sabem o que plantam e o que colhem na muda\n",
    "Na gorjeta miúda, um de confiança se tornou um Judas\n",
    "E o mal assombra e o barco afunda\n",
    "Na pequena fenda feita com a sonda\n",
    "Do medo, depois da infância são caros os brinquedos\n",
    "Errei quando pedi sua ajuda\n",
    "Se não pode com eles, junte-se a eles, faça parte deles\n",
    "Infiltre-se neles e quando tu estiver lá dentro\n",
    "Mate todos eles\n",
    "Tentamos conversar, tentamos resolver\n",
    "Eles fingem não escutar, mas agora eles vão ver\n",
    "Fizemos o inferno subir, fizemos o céu descer\n",
    "Heróis vestem capa, salvam pátrias detém balas\n",
    "Medalhas de prata não valem nada\n",
    "Batalhas são quadros de um passado inalterado\n",
    "E o que resta sempre são quadros\n",
    "Ouro, tesouro, sorte ou agouro se eu não mato eu morro\n",
    "Sangue nas pinturas pelos diamantes, nas molduras\n",
    "Tô correndo atrás de tudo aquilo que esse mundo tem pra me dar\n",
    "O que essa vida tem pra me dar?'''"
   ]
  },
  {
   "cell_type": "code",
   "execution_count": 156,
   "id": "859355d0",
   "metadata": {},
   "outputs": [],
   "source": [
    "# Retorna a qunatidade de vezes que a palavra quadros aparece na música\n",
    "quadros = len(re.findall(r\"\\bquadros\\b\", musica))"
   ]
  },
  {
   "cell_type": "code",
   "execution_count": 157,
   "id": "28249aeb",
   "metadata": {},
   "outputs": [
    {
     "name": "stdout",
     "output_type": "stream",
     "text": [
      "A palavra quadros aparece 4 vezes na música\n"
     ]
    }
   ],
   "source": [
    "print(f\"A palavra quadros aparece {quadros} vezes na música\")"
   ]
  },
  {
   "cell_type": "code",
   "execution_count": 158,
   "id": "a80c0a4f",
   "metadata": {},
   "outputs": [],
   "source": [
    "# Retorna quais palavras aparecem antes da interrogação\n",
    "interrogacao = re.findall(r'\\b(\\w+)\\s*\\?', musica)"
   ]
  },
  {
   "cell_type": "code",
   "execution_count": 159,
   "id": "f92b866e",
   "metadata": {},
   "outputs": [
    {
     "data": {
      "text/plain": [
       "['dar', 'zé', 'ser', 'dar']"
      ]
     },
     "execution_count": 159,
     "metadata": {},
     "output_type": "execute_result"
    }
   ],
   "source": [
    "interrogacao"
   ]
  },
  {
   "cell_type": "code",
   "execution_count": 160,
   "id": "54ea70d7",
   "metadata": {},
   "outputs": [],
   "source": [
    "# Palavras encontradas entre 'o' e 'da'\n",
    "oda = re.findall(r'\\bo\\s+(\\w+)\\s+da\\b', musica)"
   ]
  },
  {
   "cell_type": "code",
   "execution_count": 161,
   "id": "d52752ed",
   "metadata": {},
   "outputs": [
    {
     "data": {
      "text/plain": [
       "['sorriso', 'preço']"
      ]
     },
     "execution_count": 161,
     "metadata": {},
     "output_type": "execute_result"
    }
   ],
   "source": [
    "oda"
   ]
  },
  {
   "cell_type": "code",
   "execution_count": 162,
   "id": "12de0391",
   "metadata": {},
   "outputs": [],
   "source": [
    "# Todas palavras com acentuação\n",
    "acento = re.findall(r'\\b\\w*[áéíóúãõç]\\w*\\b', musica)"
   ]
  },
  {
   "cell_type": "code",
   "execution_count": 163,
   "id": "3a9ebe41",
   "metadata": {},
   "outputs": [
    {
     "data": {
      "text/plain": [
       "['atrás',\n",
       " 'básico',\n",
       " 'necessário',\n",
       " 'Salário',\n",
       " 'milionário',\n",
       " 'adversário',\n",
       " 'imaginários',\n",
       " 'cenários',\n",
       " 'comissária',\n",
       " 'zé',\n",
       " 'não',\n",
       " 'fé',\n",
       " 'vão',\n",
       " 'éramos',\n",
       " 'não',\n",
       " 'não',\n",
       " 'só',\n",
       " 'Já',\n",
       " 'é',\n",
       " 'não',\n",
       " 'cirurgião',\n",
       " 'é',\n",
       " 'criança',\n",
       " 'criança',\n",
       " 'é',\n",
       " 'é',\n",
       " 'ação',\n",
       " 'tragédia',\n",
       " 'só',\n",
       " 'não',\n",
       " 'comédia',\n",
       " 'não',\n",
       " 'Heróis',\n",
       " 'pátrias',\n",
       " 'detém',\n",
       " 'não',\n",
       " 'são',\n",
       " 'são',\n",
       " 'é',\n",
       " 'preço',\n",
       " 'não',\n",
       " 'atrás',\n",
       " 'não',\n",
       " 'faço',\n",
       " 'facções',\n",
       " 'áreas',\n",
       " 'é',\n",
       " 'herói',\n",
       " 'só',\n",
       " 'então',\n",
       " 'ninguém',\n",
       " 'só',\n",
       " 'nós',\n",
       " 'Começar',\n",
       " 'situação',\n",
       " 'não',\n",
       " 'miúda',\n",
       " 'confiança',\n",
       " 'são',\n",
       " 'não',\n",
       " 'faça',\n",
       " 'lá',\n",
       " 'não',\n",
       " 'vão',\n",
       " 'céu',\n",
       " 'Heróis',\n",
       " 'pátrias',\n",
       " 'detém',\n",
       " 'não',\n",
       " 'são',\n",
       " 'são',\n",
       " 'não',\n",
       " 'atrás']"
      ]
     },
     "execution_count": 163,
     "metadata": {},
     "output_type": "execute_result"
    }
   ],
   "source": [
    "acento"
   ]
  },
  {
   "cell_type": "code",
   "execution_count": 164,
   "id": "8c2b50d9",
   "metadata": {},
   "outputs": [],
   "source": [
    "# Palavras precedidas por 'a'\n",
    "depois_a = re.findall(r'\\ba\\s+(\\w+)\\b', musica)"
   ]
  },
  {
   "cell_type": "code",
   "execution_count": 165,
   "id": "43fbd27b",
   "metadata": {},
   "outputs": [
    {
     "data": {
      "text/plain": [
       "['falta',\n",
       " 'lei',\n",
       " 'nada',\n",
       " 'rua',\n",
       " 'criança',\n",
       " 'morte',\n",
       " 'vida',\n",
       " 'voz',\n",
       " 'arte',\n",
       " 'vida',\n",
       " 'situação',\n",
       " 'sonda',\n",
       " 'eles']"
      ]
     },
     "execution_count": 165,
     "metadata": {},
     "output_type": "execute_result"
    }
   ],
   "source": [
    "depois_a"
   ]
  },
  {
   "cell_type": "code",
   "execution_count": null,
   "id": "7a112140",
   "metadata": {},
   "outputs": [],
   "source": []
  }
 ],
 "metadata": {
  "kernelspec": {
   "display_name": "Python 3 (ipykernel)",
   "language": "python",
   "name": "python3"
  },
  "language_info": {
   "codemirror_mode": {
    "name": "ipython",
    "version": 3
   },
   "file_extension": ".py",
   "mimetype": "text/x-python",
   "name": "python",
   "nbconvert_exporter": "python",
   "pygments_lexer": "ipython3",
   "version": "3.11.5"
  }
 },
 "nbformat": 4,
 "nbformat_minor": 5
}
