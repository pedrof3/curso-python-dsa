{
 "cells": [
  {
   "cell_type": "markdown",
   "id": "ac550cee",
   "metadata": {},
   "source": [
    "# Função Zip"
   ]
  },
  {
   "cell_type": "markdown",
   "id": "c722174d",
   "metadata": {},
   "source": [
    "A função zip() em Python é utilizada para combinar elementos de duas ou mais sequências (como listas, tuplas, etc.) em pares ordenados. Ela cria um iterador que produz tuplas, onde o i-ésimo elemento contém o i-ésimo elemento de cada uma das sequências de entrada. Se as sequências de entrada têm tamanhos diferentes, o resultado terá o tamanho da sequência mais curta."
   ]
  },
  {
   "cell_type": "code",
   "execution_count": 8,
   "id": "8d2e3b24",
   "metadata": {},
   "outputs": [],
   "source": [
    "a = [12, 22, 32]\n",
    "b = [5, 6, 7]"
   ]
  },
  {
   "cell_type": "code",
   "execution_count": 9,
   "id": "8adac540",
   "metadata": {},
   "outputs": [
    {
     "data": {
      "text/plain": [
       "<zip at 0x70707b7cabc0>"
      ]
     },
     "execution_count": 9,
     "metadata": {},
     "output_type": "execute_result"
    }
   ],
   "source": [
    "zip(a, b)"
   ]
  },
  {
   "cell_type": "code",
   "execution_count": 10,
   "id": "6a272a59",
   "metadata": {},
   "outputs": [
    {
     "data": {
      "text/plain": [
       "[(12, 5), (22, 6), (32, 7)]"
      ]
     },
     "execution_count": 10,
     "metadata": {},
     "output_type": "execute_result"
    }
   ],
   "source": [
    "list(zip(a, b))"
   ]
  },
  {
   "cell_type": "code",
   "execution_count": 16,
   "id": "11955b70",
   "metadata": {},
   "outputs": [
    {
     "data": {
      "text/plain": [
       "[('a', '1'), ('b', '2'), ('c', '3')]"
      ]
     },
     "execution_count": 16,
     "metadata": {},
     "output_type": "execute_result"
    }
   ],
   "source": [
    "# Ao usar a função zip(), se uma lista for maior que a outra,\n",
    "# os elementos \"extras\" da lista maior são desconsiderados\n",
    "\n",
    "list(zip('abcd', '123'))"
   ]
  },
  {
   "cell_type": "code",
   "execution_count": 17,
   "id": "146f1de9",
   "metadata": {},
   "outputs": [],
   "source": [
    "# Ao usar dois dicionários como parâmetro, por padrão, o resultado aponto as chaves de ambos os dicionários\n",
    "\n",
    "di1 = {'x1': 1, 'x2': 2}\n",
    "di2 = {'z1': 14, 'z2': 16}"
   ]
  },
  {
   "cell_type": "code",
   "execution_count": 18,
   "id": "8d72dc5a",
   "metadata": {},
   "outputs": [
    {
     "data": {
      "text/plain": [
       "[('x1', 'z1'), ('x2', 'z2')]"
      ]
     },
     "execution_count": 18,
     "metadata": {},
     "output_type": "execute_result"
    }
   ],
   "source": [
    "list(zip(di1, di2))"
   ]
  },
  {
   "cell_type": "code",
   "execution_count": 24,
   "id": "ac13601d",
   "metadata": {},
   "outputs": [
    {
     "data": {
      "text/plain": [
       "[('x1', 14), ('x2', 16)]"
      ]
     },
     "execution_count": 24,
     "metadata": {},
     "output_type": "execute_result"
    }
   ],
   "source": [
    "list(zip(di1, di2.values()))"
   ]
  },
  {
   "cell_type": "code",
   "execution_count": null,
   "id": "8feaeed9",
   "metadata": {},
   "outputs": [],
   "source": []
  }
 ],
 "metadata": {
  "kernelspec": {
   "display_name": "Python 3 (ipykernel)",
   "language": "python",
   "name": "python3"
  },
  "language_info": {
   "codemirror_mode": {
    "name": "ipython",
    "version": 3
   },
   "file_extension": ".py",
   "mimetype": "text/x-python",
   "name": "python",
   "nbconvert_exporter": "python",
   "pygments_lexer": "ipython3",
   "version": "3.11.5"
  }
 },
 "nbformat": 4,
 "nbformat_minor": 5
}
