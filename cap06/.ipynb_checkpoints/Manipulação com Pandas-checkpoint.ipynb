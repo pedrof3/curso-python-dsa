{
 "cells": [
  {
   "cell_type": "markdown",
   "id": "627df605",
   "metadata": {},
   "source": [
    "# Manipulando Datasets com Pandas"
   ]
  },
  {
   "cell_type": "code",
   "execution_count": 1,
   "id": "d5aa4eca",
   "metadata": {},
   "outputs": [],
   "source": [
    "import pandas as pd"
   ]
  },
  {
   "cell_type": "code",
   "execution_count": 2,
   "id": "405c0e43",
   "metadata": {},
   "outputs": [],
   "source": [
    "file = open(\"arquivos/Current_Employee_Names__Salaries__and_Position_Titles_20240107.csv\", \"r\")\n",
    "full_data = pd.read_csv(file)"
   ]
  },
  {
   "cell_type": "code",
   "execution_count": 3,
   "id": "e0ecc681",
   "metadata": {},
   "outputs": [
    {
     "data": {
      "text/html": [
       "<div>\n",
       "<style scoped>\n",
       "    .dataframe tbody tr th:only-of-type {\n",
       "        vertical-align: middle;\n",
       "    }\n",
       "\n",
       "    .dataframe tbody tr th {\n",
       "        vertical-align: top;\n",
       "    }\n",
       "\n",
       "    .dataframe thead th {\n",
       "        text-align: right;\n",
       "    }\n",
       "</style>\n",
       "<table border=\"1\" class=\"dataframe\">\n",
       "  <thead>\n",
       "    <tr style=\"text-align: right;\">\n",
       "      <th></th>\n",
       "      <th>Name</th>\n",
       "      <th>Job Titles</th>\n",
       "      <th>Department</th>\n",
       "      <th>Full or Part-Time</th>\n",
       "      <th>Salary or Hourly</th>\n",
       "      <th>Typical Hours</th>\n",
       "      <th>Annual Salary</th>\n",
       "      <th>Hourly Rate</th>\n",
       "    </tr>\n",
       "  </thead>\n",
       "  <tbody>\n",
       "    <tr>\n",
       "      <th>0</th>\n",
       "      <td>RAVINDRAN, POOJA</td>\n",
       "      <td>LEGISLATIVE AIDE</td>\n",
       "      <td>CITY COUNCIL</td>\n",
       "      <td>F</td>\n",
       "      <td>SALARY</td>\n",
       "      <td>NaN</td>\n",
       "      <td>82392.0</td>\n",
       "      <td>NaN</td>\n",
       "    </tr>\n",
       "    <tr>\n",
       "      <th>1</th>\n",
       "      <td>TOVAR, JUAN T</td>\n",
       "      <td>LEGISLATIVE AIDE</td>\n",
       "      <td>CITY COUNCIL</td>\n",
       "      <td>F</td>\n",
       "      <td>SALARY</td>\n",
       "      <td>NaN</td>\n",
       "      <td>49992.0</td>\n",
       "      <td>NaN</td>\n",
       "    </tr>\n",
       "    <tr>\n",
       "      <th>2</th>\n",
       "      <td>LOPEZ, HUGO A</td>\n",
       "      <td>ALDERMANIC AIDE</td>\n",
       "      <td>CITY COUNCIL</td>\n",
       "      <td>P</td>\n",
       "      <td>HOURLY</td>\n",
       "      <td>10.0</td>\n",
       "      <td>NaN</td>\n",
       "      <td>16.00</td>\n",
       "    </tr>\n",
       "    <tr>\n",
       "      <th>3</th>\n",
       "      <td>PUEBLA, SANDRA</td>\n",
       "      <td>ALDERMANIC AIDE</td>\n",
       "      <td>CITY COUNCIL</td>\n",
       "      <td>P</td>\n",
       "      <td>HOURLY</td>\n",
       "      <td>20.0</td>\n",
       "      <td>NaN</td>\n",
       "      <td>36.80</td>\n",
       "    </tr>\n",
       "    <tr>\n",
       "      <th>4</th>\n",
       "      <td>GONZALEZ, MICHAEL A</td>\n",
       "      <td>POOL MOTOR TRUCK DRIVER</td>\n",
       "      <td>DEPARTMENT OF STREETS AND SANITATION</td>\n",
       "      <td>F</td>\n",
       "      <td>HOURLY</td>\n",
       "      <td>40.0</td>\n",
       "      <td>NaN</td>\n",
       "      <td>45.98</td>\n",
       "    </tr>\n",
       "  </tbody>\n",
       "</table>\n",
       "</div>"
      ],
      "text/plain": [
       "                  Name               Job Titles  \\\n",
       "0     RAVINDRAN, POOJA         LEGISLATIVE AIDE   \n",
       "1        TOVAR, JUAN T         LEGISLATIVE AIDE   \n",
       "2        LOPEZ, HUGO A          ALDERMANIC AIDE   \n",
       "3       PUEBLA, SANDRA          ALDERMANIC AIDE   \n",
       "4  GONZALEZ, MICHAEL A  POOL MOTOR TRUCK DRIVER   \n",
       "\n",
       "                             Department Full or Part-Time Salary or Hourly  \\\n",
       "0                          CITY COUNCIL                 F           SALARY   \n",
       "1                          CITY COUNCIL                 F           SALARY   \n",
       "2                          CITY COUNCIL                 P           HOURLY   \n",
       "3                          CITY COUNCIL                 P           HOURLY   \n",
       "4  DEPARTMENT OF STREETS AND SANITATION                 F           HOURLY   \n",
       "\n",
       "   Typical Hours  Annual Salary  Hourly Rate  \n",
       "0            NaN        82392.0          NaN  \n",
       "1            NaN        49992.0          NaN  \n",
       "2           10.0            NaN        16.00  \n",
       "3           20.0            NaN        36.80  \n",
       "4           40.0            NaN        45.98  "
      ]
     },
     "execution_count": 3,
     "metadata": {},
     "output_type": "execute_result"
    }
   ],
   "source": [
    "full_data.head()"
   ]
  },
  {
   "cell_type": "code",
   "execution_count": 7,
   "id": "b99283bf",
   "metadata": {},
   "outputs": [
    {
     "data": {
      "text/plain": [
       "Department\n",
       "CHICAGO POLICE DEPARTMENT                                    12407\n",
       "CHICAGO FIRE DEPARTMENT                                       4739\n",
       "DEPARTMENT OF STREETS AND SANITATION                          2148\n",
       "CHICAGO DEPARTMENT OF AVIATION                                2038\n",
       "DEPARTMENT OF WATER MANAGEMENT                                1977\n",
       "CHICAGO DEPARTMENT OF TRANSPORTATION                          1301\n",
       "CHICAGO PUBLIC LIBRARY                                        1118\n",
       "OFFICE OF EMERGENCY MANAGEMENT AND COMMUNICATIONS              850\n",
       "DEPARTMENT OF FLEET AND FACILITY MANAGEMENT                    845\n",
       "CHICAGO DEPARTMENT OF PUBLIC HEALTH                            691\n",
       "DEPARTMENT OF FAMILY AND SUPPORT SERVICES                      570\n",
       "DEPARTMENT OF FINANCE                                          510\n",
       "CITY COUNCIL                                                   391\n",
       "DEPARTMENT OF LAW                                              334\n",
       "OFFICE OF PUBLIC SAFETY ADMINISTRATION                         288\n",
       "DEPARTMENT OF BUILDINGS                                        235\n",
       "DEPARTMENT OF BUSINESS AFFAIRS AND CONSUMER PROTECTION         190\n",
       "DEPARTMENT OF PLANNING AND DEVELOPMENT                         167\n",
       "CIVILIAN OFFICE OF POLICE ACCOUNTABILITY                       137\n",
       "OFFICE OF INSPECTOR GENERAL                                    121\n",
       "BOARD OF ELECTION COMMISSIONERS                                105\n",
       "DEPARTMENT OF HUMAN RESOURCES                                   98\n",
       "DEPARTMENT OF HOUSING                                           98\n",
       "OFFICE OF THE MAYOR                                             97\n",
       "DEPARTMENT OF PROCUREMENT SERVICES                              85\n",
       "OFFICE OF CITY CLERK                                            83\n",
       "DEPARTMENT OF CULTURAL AFFAIRS AND SPECIAL EVENTS               66\n",
       "DEPARTMENT OF TECHNOLOGY AND INNOVATION                         64\n",
       "CHICAGO ANIMAL CARE AND CONTROL                                 63\n",
       "OFFICE OF BUDGET & MANAGEMENT                                   51\n",
       "DEPARTMENT OF ADMINISTRATIVE HEARING                            39\n",
       "CITY TREASURER'S OFFICE                                         36\n",
       "MAYORS OFFICE FOR PEOPLE WITH DISABILITIES                      35\n",
       "COMMUNITY COMMISSION FOR PUBLIC SAFETY AND ACCOUNTABILITY       20\n",
       "CHICAGO COMMISSION ON HUMAN RELATIONS                           18\n",
       "BOARD OF ETHICS                                                  7\n",
       "DEPARTMENT OF ENVIRONMENT                                        5\n",
       "CHICAGO POLICE BOARD                                             2\n",
       "LICENSE APPEAL COMMISSION                                        1\n",
       "Name: count, dtype: int64"
      ]
     },
     "execution_count": 7,
     "metadata": {},
     "output_type": "execute_result"
    }
   ],
   "source": [
    "# Passando como índice o título de determinada coluna, e usando value_counts(),\n",
    "# o pandas faz um ranking valores com mais aparições naquela coluna\n",
    "full_data['Department'].value_counts()"
   ]
  },
  {
   "cell_type": "code",
   "execution_count": null,
   "id": "fd64706c",
   "metadata": {},
   "outputs": [],
   "source": []
  }
 ],
 "metadata": {
  "kernelspec": {
   "display_name": "Python 3 (ipykernel)",
   "language": "python",
   "name": "python3"
  },
  "language_info": {
   "codemirror_mode": {
    "name": "ipython",
    "version": 3
   },
   "file_extension": ".py",
   "mimetype": "text/x-python",
   "name": "python",
   "nbconvert_exporter": "python",
   "pygments_lexer": "ipython3",
   "version": "3.11.5"
  }
 },
 "nbformat": 4,
 "nbformat_minor": 5
}
