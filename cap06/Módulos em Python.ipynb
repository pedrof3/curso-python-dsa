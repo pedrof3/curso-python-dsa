{
 "cells": [
  {
   "cell_type": "markdown",
   "id": "ec5a8d3e",
   "metadata": {},
   "source": [
    "# Módulos em Python"
   ]
  },
  {
   "cell_type": "code",
   "execution_count": 1,
   "id": "682b6ffa",
   "metadata": {},
   "outputs": [
    {
     "data": {
      "text/plain": [
       "['ArrowDtype',\n",
       " 'BooleanDtype',\n",
       " 'Categorical',\n",
       " 'CategoricalDtype',\n",
       " 'CategoricalIndex',\n",
       " 'DataFrame',\n",
       " 'DateOffset',\n",
       " 'DatetimeIndex',\n",
       " 'DatetimeTZDtype',\n",
       " 'ExcelFile',\n",
       " 'ExcelWriter',\n",
       " 'Flags',\n",
       " 'Float32Dtype',\n",
       " 'Float64Dtype',\n",
       " 'Grouper',\n",
       " 'HDFStore',\n",
       " 'Index',\n",
       " 'IndexSlice',\n",
       " 'Int16Dtype',\n",
       " 'Int32Dtype',\n",
       " 'Int64Dtype',\n",
       " 'Int8Dtype',\n",
       " 'Interval',\n",
       " 'IntervalDtype',\n",
       " 'IntervalIndex',\n",
       " 'MultiIndex',\n",
       " 'NA',\n",
       " 'NaT',\n",
       " 'NamedAgg',\n",
       " 'Period',\n",
       " 'PeriodDtype',\n",
       " 'PeriodIndex',\n",
       " 'RangeIndex',\n",
       " 'Series',\n",
       " 'SparseDtype',\n",
       " 'StringDtype',\n",
       " 'Timedelta',\n",
       " 'TimedeltaIndex',\n",
       " 'Timestamp',\n",
       " 'UInt16Dtype',\n",
       " 'UInt32Dtype',\n",
       " 'UInt64Dtype',\n",
       " 'UInt8Dtype',\n",
       " '__all__',\n",
       " '__builtins__',\n",
       " '__cached__',\n",
       " '__doc__',\n",
       " '__docformat__',\n",
       " '__file__',\n",
       " '__git_version__',\n",
       " '__loader__',\n",
       " '__name__',\n",
       " '__package__',\n",
       " '__path__',\n",
       " '__spec__',\n",
       " '__version__',\n",
       " '_config',\n",
       " '_is_numpy_dev',\n",
       " '_libs',\n",
       " '_testing',\n",
       " '_typing',\n",
       " '_version',\n",
       " 'annotations',\n",
       " 'api',\n",
       " 'array',\n",
       " 'arrays',\n",
       " 'bdate_range',\n",
       " 'compat',\n",
       " 'concat',\n",
       " 'core',\n",
       " 'crosstab',\n",
       " 'cut',\n",
       " 'date_range',\n",
       " 'describe_option',\n",
       " 'errors',\n",
       " 'eval',\n",
       " 'factorize',\n",
       " 'from_dummies',\n",
       " 'get_dummies',\n",
       " 'get_option',\n",
       " 'infer_freq',\n",
       " 'interval_range',\n",
       " 'io',\n",
       " 'isna',\n",
       " 'isnull',\n",
       " 'json_normalize',\n",
       " 'lreshape',\n",
       " 'melt',\n",
       " 'merge',\n",
       " 'merge_asof',\n",
       " 'merge_ordered',\n",
       " 'notna',\n",
       " 'notnull',\n",
       " 'offsets',\n",
       " 'option_context',\n",
       " 'options',\n",
       " 'pandas',\n",
       " 'period_range',\n",
       " 'pivot',\n",
       " 'pivot_table',\n",
       " 'plotting',\n",
       " 'qcut',\n",
       " 'read_clipboard',\n",
       " 'read_csv',\n",
       " 'read_excel',\n",
       " 'read_feather',\n",
       " 'read_fwf',\n",
       " 'read_gbq',\n",
       " 'read_hdf',\n",
       " 'read_html',\n",
       " 'read_json',\n",
       " 'read_orc',\n",
       " 'read_parquet',\n",
       " 'read_pickle',\n",
       " 'read_sas',\n",
       " 'read_spss',\n",
       " 'read_sql',\n",
       " 'read_sql_query',\n",
       " 'read_sql_table',\n",
       " 'read_stata',\n",
       " 'read_table',\n",
       " 'read_xml',\n",
       " 'reset_option',\n",
       " 'set_eng_float_format',\n",
       " 'set_option',\n",
       " 'show_versions',\n",
       " 'test',\n",
       " 'testing',\n",
       " 'timedelta_range',\n",
       " 'to_datetime',\n",
       " 'to_numeric',\n",
       " 'to_pickle',\n",
       " 'to_timedelta',\n",
       " 'tseries',\n",
       " 'unique',\n",
       " 'util',\n",
       " 'value_counts',\n",
       " 'wide_to_long']"
      ]
     },
     "execution_count": 1,
     "metadata": {},
     "output_type": "execute_result"
    }
   ],
   "source": [
    "import pandas as pd\n",
    "dir(pd)"
   ]
  },
  {
   "cell_type": "code",
   "execution_count": 8,
   "id": "c1d5d27b",
   "metadata": {},
   "outputs": [],
   "source": [
    "import random"
   ]
  },
  {
   "cell_type": "code",
   "execution_count": 9,
   "id": "d7efc42c",
   "metadata": {},
   "outputs": [
    {
     "data": {
      "text/plain": [
       "51"
      ]
     },
     "execution_count": 9,
     "metadata": {},
     "output_type": "execute_result"
    }
   ],
   "source": [
    "random.choice(range(300))"
   ]
  },
  {
   "cell_type": "code",
   "execution_count": 11,
   "id": "656e5ad9",
   "metadata": {},
   "outputs": [
    {
     "data": {
      "text/plain": [
       "[467, 140, 387, 197, 35, 129, 138, 76, 161, 420, 46, 61, 419, 447, 195]"
      ]
     },
     "execution_count": 11,
     "metadata": {},
     "output_type": "execute_result"
    }
   ],
   "source": [
    "random.sample(range(500), 15)"
   ]
  },
  {
   "cell_type": "code",
   "execution_count": 12,
   "id": "173d3bc1",
   "metadata": {},
   "outputs": [],
   "source": [
    "import urllib.request"
   ]
  },
  {
   "cell_type": "code",
   "execution_count": 17,
   "id": "d04d7d50",
   "metadata": {},
   "outputs": [],
   "source": [
    "site = urllib.request.urlopen('https://pypi.org/')"
   ]
  },
  {
   "cell_type": "code",
   "execution_count": 18,
   "id": "b245b2aa",
   "metadata": {},
   "outputs": [
    {
     "data": {
      "text/plain": [
       "<http.client.HTTPResponse at 0x750aee5df700>"
      ]
     },
     "execution_count": 18,
     "metadata": {},
     "output_type": "execute_result"
    }
   ],
   "source": [
    "site"
   ]
  },
  {
   "cell_type": "code",
   "execution_count": 19,
   "id": "82174b12",
   "metadata": {},
   "outputs": [],
   "source": [
    "html = site.read()"
   ]
  },
  {
   "cell_type": "code",
   "execution_count": 20,
   "id": "535a20c4",
   "metadata": {},
   "outputs": [
    {
     "data": {
      "text/plain": [
       "b'\\n\\n\\n\\n<!DOCTYPE html>\\n<html lang=\"en\" dir=\"ltr\">\\n  <head>\\n    <meta charset=\"utf-8\">\\n    <meta http-equiv=\"X-UA-Compatible\" content=\"IE=edge\">\\n    <meta name=\"viewport\" content=\"width=device-width, initial-scale=1\">\\n\\n    <meta name=\"defaultLanguage\" content=\"en\">\\n    <meta name=\"availableLanguages\" content=\"en, es, fr, ja, pt_BR, uk, el, de, zh_Hans, zh_Hant, ru, he, eo\">\\n\\n\\n    <title>PyPI \\xc2\\xb7 The Python Package Index</title>\\n    <meta name=\"description\" content=\"The Python Package Index (PyPI) is a repository of software for the Python programming language.\">\\n\\n    <link rel=\"stylesheet\" href=\"/static/css/warehouse-ltr.d5555a52.css\">\\n    <link rel=\"stylesheet\" href=\"/static/css/fontawesome.b50b476c.css\">\\n    <link rel=\"stylesheet\" href=\"https://fonts.googleapis.com/css?family=Source+Sans+3:400,400italic,600,600italic,700,700italic%7CSource+Code+Pro:500\">\\n    <noscript>\\n      <link rel=\"stylesheet\" href=\"/static/css/noscript.0673c9ea.css\">\\n    </noscript>\\n\\n\\n    <link rel=\"icon\" href=\"/static/images/favicon.35549fe8.ico\" type=\"image/x-icon\">\\n\\n    <link rel=\"alternate\" type=\"application/rss+xml\" title=\"RSS: 40 latest updates\" href=\"/rss/updates.xml\">\\n    <link rel=\"alternate\" type=\"application/rss+xml\" title=\"RSS: 40 newest packages\" href=\"/rss/packages.xml\">\\n\\n    <meta property=\"og:url\" content=\"https://pypi.org/\">\\n    <meta property=\"og:site_name\" content=\"PyPI\">\\n    <meta property=\"og:type\" content=\"website\">\\n    <meta property=\"og:image\" content=\"https://pypi.org/static/images/twitter.abaf4b19.webp\">\\n    <meta property=\"og:title\" content=\"\">\\n    <meta property=\"og:description\" content=\"The Python Package Index (PyPI) is a repository of software for the Python programming language.\">\\n\\n    <link rel=\"search\" type=\"application/opensearchdescription+xml\" title=\"PyPI\" href=\"/opensearch.xml\">\\n\\n    <script async\\ndata-ga-id=\"UA-55961911-1\"\\ndata-ga4-id=\"G-RW7D75DF8V\"\\n            src=\"/static/js/warehouse.dd4295c4.js\">\\n    </script>\\n<script async src=\"https://www.googletagmanager.com/gtag/js?id=UA-55961911-1\"></script>\\n<script async src=\"https://www.googletagmanager.com/gtag/js?id=G-RW7D75DF8V\"></script>\\n<script defer src=\"https://www.fastly-insights.com/insights.js?k=6a52360a-f306-421e-8ed5-7417d0d4a4e9&dnt=true\"></script>\\n    <script async\\n        src=\"https://media.ethicalads.io/media/client/v1.4.0/ethicalads.min.js\"\\n        integrity=\"sha256-U3hKDidudIaxBDEzwGJApJgPEf2mWk6cfMWghrAa6i0= sha384-UcmsCqcNRSLW/dV3Lo1oCi2/VaurXbib6p4HyUEOeIa/4OpsrnucrugAefzVZJfI sha512-q4t1L4xEjGV2R4hzqCa41P8jrgFUS8xTb8rdNv4FGvw7FpydVj/kkxBJHOiaoxHa8olCcx1Slk9K+3sNbsM4ug==\"\\n        crossorigin=\"anonymous\"\\n    ></script>\\n\\n  </head>\\n\\n  <body data-controller=\"viewport-toggle\">\\n\\n    <!-- Accessibility: this link should always be the first piece of content inside the body-->\\n    <a href=\"#content\" class=\"skip-to-content\">Skip to main content</a>\\n\\n    <button type=\"button\" class=\"button button--primary button--switch-to-mobile hidden\" data-viewport-toggle-target=\"switchToMobile\" data-action=\"viewport-toggle#switchToMobile\">\\nSwitch to mobile version    </button>\\n\\n    <div id=\"sticky-notifications\" class=\"stick-to-top js-stick-to-top\">\\n      <!-- Add browser warning. Will show for ie9 and below -->\\n      <!--[if IE]>\\n      <div class=\"notification-bar notification-bar--warning\" role=\"status\">\\n        <span class=\"notification-bar__icon\">\\n          <i class=\"fa fa-exclamation-triangle\" aria-hidden=\"true\"></i>\\n          <span class=\"sr-only\">Warning</span>\\n        </span>\\n        <span class=\"notification-bar__message\">You are using an unsupported browser, upgrade to a newer version.</span>\\n      </div>\\n      <![endif]-->\\n      <noscript>\\n      <div class=\"notification-bar notification-bar--warning\" role=\"status\">\\n        <span class=\"notification-bar__icon\">\\n          <i class=\"fa fa-exclamation-triangle\" aria-hidden=\"true\"></i>\\n          <span class=\"sr-only\">Warning</span>\\n        </span>\\n        <span class=\"notification-bar__message\">Some features may not work without JavaScript. Please try enabling it if you encounter problems.</span>\\n      </div>\\n      </noscript>\\n\\n<div data-html-include=\"/_includes/notification-banners/\"></div>    </div>\\n\\n<div data-html-include=\"/_includes/flash-messages/\"></div>\\n\\n<div data-html-include=\"/_includes/session-notifications/\"></div>\\n    <header class=\"site-header \">\\n      <div class=\"site-container\">\\n        <div class=\"split-layout\">\\n<div>\\n  <a class=\"site-header__logo\" href=\"/\">\\n    <img alt=\"PyPI\" src=\"/static/images/logo-small.2a411bc6.svg\">\\n  </a>\\n</div>\\n\\n<div data-html-include=\"/_includes/current-user-indicator/\">            <div id=\"user-indicator\" class=\"horizontal-menu horizontal-menu--light horizontal-menu--tall\">\\n  <nav class=\"horizontal-menu horizontal-menu--light horizontal-menu--tall hide-on-tablet\" aria-label=\"Main navigation\">\\n    <ul>\\n      <li class=\"horizontal-menu__item\"><a href=\"/help/\" class=\"horizontal-menu__link\">Help</a></li>\\n      <li class=\"horizontal-menu__item\"><a href=\"/sponsors/\" class=\"horizontal-menu__link\">Sponsors</a></li>\\n      <li class=\"horizontal-menu__item\"><a href=\"/account/login/\" class=\"horizontal-menu__link\">Log in</a></li>\\n      <li class=\"horizontal-menu__item\"><a href=\"/account/register/\" class=\"horizontal-menu__link\">Register</a></li>\\n    </ul>\\n  </nav>\\n  <nav class=\"dropdown dropdown--on-menu hidden show-on-tablet\" aria-label=\"Main navigation\">\\n    <button type=\"button\" class=\"horizontal-menu__link dropdown__trigger\" aria-haspopup=\"true\" aria-expanded=\"false\" aria-label=\"View menu\">\\nMenu      <span class=\"dropdown__trigger-caret\">\\n        <i class=\"fa fa-caret-down\" aria-hidden=\"true\"></i>\\n      </span>\\n    </button>\\n    <ul class=\"dropdown__content\" aria-hidden=\"true\" aria-label=\"Main menu\">\\n      <li><a class=\"dropdown__link\" href=\"/help/\">Help</a></li>\\n      <li><a class=\"dropdown__link\" href=\"/sponsors/\">Sponsors</a></li>\\n      <li><a class=\"dropdown__link\" href=\"/account/login/\">Log in</a></li>\\n      <li><a class=\"dropdown__link\" href=\"/account/register/\">Register</a></li>\\n    </ul>\\n  </nav>\\n</div>\\n</div>        </div>\\n      </div>\\n    </header>\\n\\n\\n    <main id=\"content\">\\n\\n\\n<div class=\"banner\">\\n  <div class=\"homepage-banner\">\\n    <h1 class=\"homepage-banner__title\">Find, install and publish Python packages with the Python Package Index</h1>\\n\\n    <form class=\"search-form search-form--large search-form--fullwidth\" action=\"/search/\" role=\"search\">\\n      <label for=\"search\" class=\"sr-only\">Search PyPI</label>\\n\\n      <!-- The following input is intentionally not autofocused, see https://github.com/pypi/warehouse/issues/6088 for more details -->\\n      <input id=\"search\" class=\"search-form__search large-input\" type=\"text\" name=\"q\" placeholder=\"Search projects\" autocomplete=\"off\" autocapitalize=\"off\" spellcheck=\"false\" data-controller=\"search-focus\" data-action=\"keydown@window->search-focus#focusSearchField\" data-search-focus-target=\"searchField\">\\n\\n      <button type=\"submit\" class=\"search-form__button\">\\n        <i class=\"fa fa-search\" aria-hidden=\"true\"></i>\\n        <span class=\"sr-only\">Search</span>\\n      </button>\\n    </form>\\n\\n    <p class=\"homepage-banner__browse\">Or <a href=\"/search/\">browse projects</a></p>\\n  </div>\\n</div>\\n\\n<div class=\"horizontal-section horizontal-section--grey horizontal-section--thin horizontal-section--statistics\">\\n  <div class=\"statistics-bar\">\\n    <p class=\"statistics-bar__statistic\">\\n506,282 projects    </p>\\n    <p class=\"statistics-bar__statistic\">\\n5,262,018 releases    </p>\\n    <p class=\"statistics-bar__statistic\">\\n10,032,766 files    </p>\\n    <p class=\"statistics-bar__statistic\">\\n774,535 users    </p>\\n  </div>\\n</div>\\n\\n<div class=\"horizontal-section\">\\n  <div class=\"about-pypi\">\\n    <div class=\"about-pypi__logo\">\\n      <img alt=\"\" src=\"/static/images/logo-large.9f732b5f.svg\" loading=\"lazy\">\\n    </div>\\n    <div class=\"about-pypi__text\">\\n      <p class=\"lede-paragraph\">The Python Package Index (PyPI) is a repository of software for the Python programming language.</p>\\n      <p>\\nPyPI helps you find and install software developed and shared by the Python community.        <a href=\"https://packaging.python.org/installing/\" title=\"External link\" target=\"_blank\" rel=\"noopener\">Learn about installing packages</a>.\\n      </p>\\n      <p>\\nPackage authors use PyPI to distribute their software.        <a href=\"https://packaging.python.org/tutorials/packaging-projects/\" title=\"External link\" target=\"_blank\" rel=\"noopener\">Learn how to package your Python code for PyPI</a>.\\n      </p>\\n    </div>\\n  </div>\\n</div>\\n    </main>\\n\\n    <footer class=\"footer\">\\n      <div class=\"footer__logo\">\\n        <img src=\"/static/images/white-cube.2351a86c.svg\" alt=\"\" class=\"-js-white-cube\">\\n      </div>\\n\\n      <div class=\"footer__menus\">\\n        <div class=\"footer__menu\">\\n          <h2>Help</h2>\\n          <nav aria-label=\"Help navigation\">\\n            <ul>\\n              <li><a href=\"https://packaging.python.org/installing/\" title=\"External link\" target=\"_blank\" rel=\"noopener\">Installing packages</a></li>\\n              <li><a href=\"https://packaging.python.org/tutorials/packaging-projects/\" title=\"External link\" target=\"_blank\" rel=\"noopener\">Uploading packages</a></li>\\n              <li><a href=\"https://packaging.python.org/\" title=\"External link\" target=\"_blank\" rel=\"noopener\">User guide</a></li>\\n              <li><a href=\"https://www.python.org/dev/peps/pep-0541/\" title=\"External link\" target=\"_blank\" rel=\"noopener\">Project name retention</a></li>\\n              <li><a href=\"/help/\">FAQs</a></li>\\n            </ul>\\n          </nav>\\n        </div>\\n\\n        <div class=\"footer__menu\">\\n          <h2>About PyPI</h2>\\n          <nav aria-label=\"About PyPI navigation\">\\n            <ul>\\n              <li><a href=\"https://twitter.com/PyPI\" title=\"External link\" target=\"_blank\" rel=\"noopener\">PyPI on Twitter</a></li>\\n              <li><a href=\"https://dtdg.co/pypi\" title=\"External link\" target=\"_blank\" rel=\"noopener\">Infrastructure dashboard</a></li>\\n              <li><a href=\"/stats/\">Statistics</a></li>\\n              <li><a href=\"/trademarks/\">Logos & trademarks</a></li>\\n              <li><a href=\"/sponsors/\">Our sponsors</a></li>\\n            </ul>\\n          </nav>\\n        </div>\\n\\n        <div class=\"footer__menu\">\\n          <h2>Contributing to PyPI</h2>\\n          <nav aria-label=\"How to contribute navigation\">\\n            <ul>\\n              <li><a href=\"/help/#feedback\">Bugs and feedback</a></li>\\n              <li><a href=\"https://github.com/pypi/warehouse\" title=\"External link\" target=\"_blank\" rel=\"noopener\">Contribute on GitHub</a></li>\\n              <li><a href=\"https://hosted.weblate.org/projects/pypa/warehouse/\" title=\"External link\" target=\"_blank\" rel=\"noopener\">Translate PyPI</a></li>\\n              <li><a href=\"/sponsors/\">Sponsor PyPI</a></li>\\n              <li><a href=\"https://github.com/pypi/warehouse/graphs/contributors\" title=\"External link\" target=\"_blank\" rel=\"noopener\">Development credits</a></li>\\n            </ul>\\n          </nav>\\n        </div>\\n\\n        <div class=\"footer__menu\">\\n          <h2>Using PyPI</h2>\\n          <nav aria-label=\"Using PyPI navigation\">\\n            <ul>\\n              <li><a href=\"https://github.com/pypa/.github/blob/main/CODE_OF_CONDUCT.md\" title=\"External link\" target=\"_blank\" rel=\"noopener\">Code of conduct</a></li>\\n              <li><a href=\"/security/\">Report security issue</a></li>\\n              <li><a href=\"https://www.python.org/privacy/\" title=\"External link\" target=\"_blank\" rel=\"noopener\">Privacy policy</a></li>\\n              <li><a href=\"/policy/terms-of-use/\">Terms of use</a></li>\\n              <li><a href=\"/policy/acceptable-use-policy/\">Acceptable Use Policy</a></li>\\n            </ul>\\n          </nav>\\n        </div>\\n      </div>\\n\\n      <hr class=\"footer__divider\">\\n\\n      <div class=\"footer__text\">\\n        <p>Status:<a href=\"https://status.python.org/\" title=\"External link\" target=\"_blank\" rel=\"noopener\">\\n          <span data-statuspage-domain=\"https://2p66nmmycsj3.statuspage.io\">all systems operational</span></a>\\n        </p>\\n        <p>\\nDeveloped and maintained by the Python community, for the Python community.          <br>\\n          <a href=\"https://donate.pypi.org\">Donate today!</a>\\n        </p>\\n        <p>\\n          \"PyPI\", \"Python Package Index\", and the blocks logos are registered <a href=\"/trademarks/\">trademarks</a> of the <a href=\"https://python.org/psf-landing\" target=\"_blank\" rel=\"noopener\">Python Software Foundation</a>.<br>\\n        </p>\\n        <p>\\n          \\xc2\\xa9 2024 <a href=\"https://www.python.org/psf-landing/\" title=\"External link\" target=\"_blank\" rel=\"noopener\">Python Software Foundation</a><br>\\n          <a href=\"/sitemap/\">Site map</a>\\n        </p>\\n      </div>\\n\\n      <div class=\"centered hide-on-desktop\">\\n        <button type=\"button\" class=\"button button--switch-to-desktop hidden\" data-viewport-toggle-target=\"switchToDesktop\" data-action=\"viewport-toggle#switchToDesktop\">\\nSwitch to desktop version        </button>\\n      </div>\\n    </footer>\\n\\n\\n    <div class=\"language-switcher\">\\n      <form action=\"/locale/\">\\n        <ul>\\n          <li>\\n            <button\\n              class=\"language-switcher__selected\"\\n              name=\"locale_id\" value=\"en\" type=\"submit\"\\n            >\\n              English\\n            </button>\\n          </li>\\n          <li>\\n            <button\\n              name=\"locale_id\" value=\"es\" type=\"submit\"\\n            >\\n              espa\\xc3\\xb1ol\\n            </button>\\n          </li>\\n          <li>\\n            <button\\n              name=\"locale_id\" value=\"fr\" type=\"submit\"\\n            >\\n              fran\\xc3\\xa7ais\\n            </button>\\n          </li>\\n          <li>\\n            <button\\n              name=\"locale_id\" value=\"ja\" type=\"submit\"\\n            >\\n              \\xe6\\x97\\xa5\\xe6\\x9c\\xac\\xe8\\xaa\\x9e\\n            </button>\\n          </li>\\n          <li>\\n            <button\\n              name=\"locale_id\" value=\"pt_BR\" type=\"submit\"\\n            >\\n              portugu\\xc3\\xaas (Brasil)\\n            </button>\\n          </li>\\n          <li>\\n            <button\\n              name=\"locale_id\" value=\"uk\" type=\"submit\"\\n            >\\n              \\xd1\\x83\\xd0\\xba\\xd1\\x80\\xd0\\xb0\\xd1\\x97\\xd0\\xbd\\xd1\\x81\\xd1\\x8c\\xd0\\xba\\xd0\\xb0\\n            </button>\\n          </li>\\n          <li>\\n            <button\\n              name=\"locale_id\" value=\"el\" type=\"submit\"\\n            >\\n              \\xce\\x95\\xce\\xbb\\xce\\xbb\\xce\\xb7\\xce\\xbd\\xce\\xb9\\xce\\xba\\xce\\xac\\n            </button>\\n          </li>\\n          <li>\\n            <button\\n              name=\"locale_id\" value=\"de\" type=\"submit\"\\n            >\\n              Deutsch\\n            </button>\\n          </li>\\n          <li>\\n            <button\\n              name=\"locale_id\" value=\"zh_Hans\" type=\"submit\"\\n            >\\n              \\xe4\\xb8\\xad\\xe6\\x96\\x87 (\\xe7\\xae\\x80\\xe4\\xbd\\x93)\\n            </button>\\n          </li>\\n          <li>\\n            <button\\n              name=\"locale_id\" value=\"zh_Hant\" type=\"submit\"\\n            >\\n              \\xe4\\xb8\\xad\\xe6\\x96\\x87 (\\xe7\\xb9\\x81\\xe9\\xab\\x94)\\n            </button>\\n          </li>\\n          <li>\\n            <button\\n              name=\"locale_id\" value=\"ru\" type=\"submit\"\\n            >\\n              \\xd1\\x80\\xd1\\x83\\xd1\\x81\\xd1\\x81\\xd0\\xba\\xd0\\xb8\\xd0\\xb9\\n            </button>\\n          </li>\\n          <li>\\n            <button\\n              name=\"locale_id\" value=\"he\" type=\"submit\"\\n            >\\n              \\xd7\\xa2\\xd7\\x91\\xd7\\xa8\\xd7\\x99\\xd7\\xaa\\n            </button>\\n          </li>\\n          <li>\\n            <button\\n              name=\"locale_id\" value=\"eo\" type=\"submit\"\\n            >\\n              esperanto\\n            </button>\\n          </li>\\n        </ul>\\n      </form>\\n    </div>\\n\\n\\n<div class=\"sponsors\">\\n  <p class=\"sponsors__title\">Supported by</p>\\n  <div class=\"sponsors__divider\"></div>\\n        <a class=\"sponsors__sponsor\" target=\"_blank\" rel=\"noopener\" href=\"https://aws.amazon.com/\">\\n          <img class=sponsors__image src=\"https://pypi-camo.freetls.fastly.net/ed7074cadad1a06f56bc520ad9bd3e00d0704c5b/68747470733a2f2f73746f726167652e676f6f676c65617069732e636f6d2f707970692d6173736574732f73706f6e736f726c6f676f732f6177732d77686974652d6c6f676f2d7443615473387a432e706e67\" alt=AWS loading=lazy>\\n          <span class=\"sponsors__name\">AWS</span>\\n          <span class=\"sponsors__service\">\\n            Cloud computing and Security Sponsor\\n          </span>\\n        </a>\\n        <a class=\"sponsors__sponsor\" target=\"_blank\" rel=\"noopener\" href=\"https://www.datadoghq.com/\">\\n          <img class=sponsors__image src=\"https://pypi-camo.freetls.fastly.net/8855f7c063a3bdb5b0ce8d91bfc50cf851cc5c51/68747470733a2f2f73746f726167652e676f6f676c65617069732e636f6d2f707970692d6173736574732f73706f6e736f726c6f676f732f64617461646f672d77686974652d6c6f676f2d6668644c4e666c6f2e706e67\" alt=Datadog loading=lazy>\\n          <span class=\"sponsors__name\">Datadog</span>\\n          <span class=\"sponsors__service\">\\n            Monitoring\\n          </span>\\n        </a>\\n        <a class=\"sponsors__sponsor\" target=\"_blank\" rel=\"noopener\" href=\"https://www.fastly.com/\">\\n          <img class=sponsors__image src=\"https://pypi-camo.freetls.fastly.net/df6fe8829cbff2d7f668d98571df1fd011f36192/68747470733a2f2f73746f726167652e676f6f676c65617069732e636f6d2f707970692d6173736574732f73706f6e736f726c6f676f732f666173746c792d77686974652d6c6f676f2d65684d3077735f6f2e706e67\" alt=Fastly loading=lazy>\\n          <span class=\"sponsors__name\">Fastly</span>\\n          <span class=\"sponsors__service\">\\n            CDN\\n          </span>\\n        </a>\\n        <a class=\"sponsors__sponsor\" target=\"_blank\" rel=\"noopener\" href=\"https://careers.google.com/\">\\n          <img class=sponsors__image src=\"https://pypi-camo.freetls.fastly.net/420cc8cf360bac879e24c923b2f50ba7d1314fb0/68747470733a2f2f73746f726167652e676f6f676c65617069732e636f6d2f707970692d6173736574732f73706f6e736f726c6f676f732f676f6f676c652d77686974652d6c6f676f2d616734424e3774332e706e67\" alt=Google loading=lazy>\\n          <span class=\"sponsors__name\">Google</span>\\n          <span class=\"sponsors__service\">\\n            Download Analytics\\n          </span>\\n        </a>\\n        <a class=\"sponsors__sponsor\" target=\"_blank\" rel=\"noopener\" href=\"https://www.python.org/psf/sponsors/#microsoft\">\\n          <img class=sponsors__image src=\"https://pypi-camo.freetls.fastly.net/524d1ce72f7772294ca4c1fe05d21dec8fa3f8ea/68747470733a2f2f73746f726167652e676f6f676c65617069732e636f6d2f707970692d6173736574732f73706f6e736f726c6f676f732f6d6963726f736f66742d77686974652d6c6f676f2d5a443172685444462e706e67\" alt=Microsoft loading=lazy>\\n          <span class=\"sponsors__name\">Microsoft</span>\\n          <span class=\"sponsors__service\">\\n            PSF Sponsor\\n          </span>\\n        </a>\\n        <a class=\"sponsors__sponsor\" target=\"_blank\" rel=\"noopener\" href=\"https://www.pingdom.com/\">\\n          <img class=sponsors__image src=\"https://pypi-camo.freetls.fastly.net/d01053c02f3a626b73ffcb06b96367fdbbf9e230/68747470733a2f2f73746f726167652e676f6f676c65617069732e636f6d2f707970692d6173736574732f73706f6e736f726c6f676f732f70696e67646f6d2d77686974652d6c6f676f2d67355831547546362e706e67\" alt=Pingdom loading=lazy>\\n          <span class=\"sponsors__name\">Pingdom</span>\\n          <span class=\"sponsors__service\">\\n            Monitoring\\n          </span>\\n        </a>\\n        <a class=\"sponsors__sponsor\" target=\"_blank\" rel=\"noopener\" href=\"https://getsentry.com/for/python\">\\n          <img class=sponsors__image src=\"https://pypi-camo.freetls.fastly.net/67af7117035e2345bacb5a82e9aa8b5b3e70701d/68747470733a2f2f73746f726167652e676f6f676c65617069732e636f6d2f707970692d6173736574732f73706f6e736f726c6f676f732f73656e7472792d77686974652d6c6f676f2d4a2d6b64742d706e2e706e67\" alt=Sentry loading=lazy>\\n          <span class=\"sponsors__name\">Sentry</span>\\n          <span class=\"sponsors__service\">\\n            Error logging\\n          </span>\\n        </a>\\n        <a class=\"sponsors__sponsor\" target=\"_blank\" rel=\"noopener\" href=\"https://statuspage.io\">\\n          <img class=sponsors__image src=\"https://pypi-camo.freetls.fastly.net/b611884ff90435a0575dbab7d9b0d3e60f136466/68747470733a2f2f73746f726167652e676f6f676c65617069732e636f6d2f707970692d6173736574732f73706f6e736f726c6f676f732f737461747573706167652d77686974652d6c6f676f2d5467476c6a4a2d502e706e67\" alt=StatusPage loading=lazy>\\n          <span class=\"sponsors__name\">StatusPage</span>\\n          <span class=\"sponsors__service\">\\n            Status page\\n          </span>\\n        </a>\\n</div>\\n  </body>\\n\\n</html>'"
      ]
     },
     "execution_count": 20,
     "metadata": {},
     "output_type": "execute_result"
    }
   ],
   "source": [
    "html"
   ]
  },
  {
   "cell_type": "code",
   "execution_count": null,
   "id": "5ac88e2d",
   "metadata": {},
   "outputs": [],
   "source": []
  }
 ],
 "metadata": {
  "kernelspec": {
   "display_name": "Python 3 (ipykernel)",
   "language": "python",
   "name": "python3"
  },
  "language_info": {
   "codemirror_mode": {
    "name": "ipython",
    "version": 3
   },
   "file_extension": ".py",
   "mimetype": "text/x-python",
   "name": "python",
   "nbconvert_exporter": "python",
   "pygments_lexer": "ipython3",
   "version": "3.11.5"
  }
 },
 "nbformat": 4,
 "nbformat_minor": 5
}
