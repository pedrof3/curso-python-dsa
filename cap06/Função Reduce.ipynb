{
 "cells": [
  {
   "cell_type": "markdown",
   "id": "f22b38bd",
   "metadata": {},
   "source": [
    "# Função reduce()"
   ]
  },
  {
   "cell_type": "markdown",
   "id": "12832a99",
   "metadata": {},
   "source": [
    "A função reduce() em Python está no módulo functools e é usada para aplicar uma função cumulativa a uma sequência de elementos, reduzindo-a a um único valor. A função reduce() recebe dois argumentos: a função cumulativa e a sequência de elementos a serem reduzidos."
   ]
  },
  {
   "cell_type": "code",
   "execution_count": 29,
   "id": "b51f709c",
   "metadata": {},
   "outputs": [],
   "source": [
    "from functools import reduce\n",
    "from random import sample"
   ]
  },
  {
   "cell_type": "code",
   "execution_count": 30,
   "id": "6879923e",
   "metadata": {},
   "outputs": [],
   "source": [
    "lista = sample(range(40), 8)"
   ]
  },
  {
   "cell_type": "code",
   "execution_count": 31,
   "id": "96f40ea4",
   "metadata": {},
   "outputs": [
    {
     "data": {
      "text/plain": [
       "[5, 21, 37, 6, 13, 26, 33, 1]"
      ]
     },
     "execution_count": 31,
     "metadata": {},
     "output_type": "execute_result"
    }
   ],
   "source": [
    "lista"
   ]
  },
  {
   "cell_type": "code",
   "execution_count": 36,
   "id": "10ed9696",
   "metadata": {},
   "outputs": [
    {
     "data": {
      "text/plain": [
       "142"
      ]
     },
     "execution_count": 36,
     "metadata": {},
     "output_type": "execute_result"
    }
   ],
   "source": [
    "# Reduz a lista criada para a soma de todos seus valores\n",
    "\n",
    "reduce((lambda x, y: x + y), lista)"
   ]
  },
  {
   "cell_type": "code",
   "execution_count": 33,
   "id": "efe7fc1c",
   "metadata": {},
   "outputs": [],
   "source": [
    "arr = sample(range(20), 4)"
   ]
  },
  {
   "cell_type": "code",
   "execution_count": 34,
   "id": "ea7f1cc1",
   "metadata": {},
   "outputs": [
    {
     "data": {
      "text/plain": [
       "[13, 4, 17, 9]"
      ]
     },
     "execution_count": 34,
     "metadata": {},
     "output_type": "execute_result"
    }
   ],
   "source": [
    "arr"
   ]
  },
  {
   "cell_type": "code",
   "execution_count": 37,
   "id": "80b90153",
   "metadata": {},
   "outputs": [
    {
     "data": {
      "text/plain": [
       "4"
      ]
     },
     "execution_count": 37,
     "metadata": {},
     "output_type": "execute_result"
    }
   ],
   "source": [
    "# Reduz a lista criada para o menor valor dela\n",
    "\n",
    "reduce((lambda x, y: x if x < y else y), arr)"
   ]
  },
  {
   "cell_type": "code",
   "execution_count": null,
   "id": "7f4ec849",
   "metadata": {},
   "outputs": [],
   "source": []
  }
 ],
 "metadata": {
  "kernelspec": {
   "display_name": "Python 3 (ipykernel)",
   "language": "python",
   "name": "python3"
  },
  "language_info": {
   "codemirror_mode": {
    "name": "ipython",
    "version": 3
   },
   "file_extension": ".py",
   "mimetype": "text/x-python",
   "name": "python",
   "nbconvert_exporter": "python",
   "pygments_lexer": "ipython3",
   "version": "3.11.5"
  }
 },
 "nbformat": 4,
 "nbformat_minor": 5
}
