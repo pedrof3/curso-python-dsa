{
 "cells": [
  {
   "cell_type": "markdown",
   "id": "8077e484",
   "metadata": {},
   "source": [
    "# Manipulando arquivos TXT com Python"
   ]
  },
  {
   "cell_type": "code",
   "execution_count": 2,
   "id": "02bd367f",
   "metadata": {},
   "outputs": [
    {
     "name": "stdout",
     "output_type": "stream",
     "text": [
      "Python é uma linguagem poderosa\n",
      "Python é usado em Ciência de Dados\n",
      "Estude Python\n"
     ]
    }
   ],
   "source": [
    "text = \"Python é uma linguagem poderosa\\nPython é usado em Ciência de Dados\\nEstude Python\"\n",
    "print(text)"
   ]
  },
  {
   "cell_type": "code",
   "execution_count": 6,
   "id": "c889e288",
   "metadata": {},
   "outputs": [],
   "source": [
    "import os"
   ]
  },
  {
   "cell_type": "code",
   "execution_count": 7,
   "id": "e3840d19",
   "metadata": {},
   "outputs": [],
   "source": [
    "file = open(os.path.join(\"arquivos/python.txt\"), \"w\")"
   ]
  },
  {
   "cell_type": "code",
   "execution_count": 10,
   "id": "294e3fd8",
   "metadata": {},
   "outputs": [],
   "source": [
    "for word in text.split():\n",
    "    file.write(word + \" \")"
   ]
  },
  {
   "cell_type": "code",
   "execution_count": 11,
   "id": "91862cd1",
   "metadata": {},
   "outputs": [],
   "source": [
    "file.close()"
   ]
  },
  {
   "cell_type": "code",
   "execution_count": 12,
   "id": "b3993bd6",
   "metadata": {},
   "outputs": [
    {
     "data": {
      "text/plain": [
       "'Python é uma linguagem poderosa Python é usado em Ciência de Dados Estude Python '"
      ]
     },
     "execution_count": 12,
     "metadata": {},
     "output_type": "execute_result"
    }
   ],
   "source": [
    "new_file = open(\"arquivos/python.txt\", \"r\")\n",
    "new_file.read()"
   ]
  },
  {
   "cell_type": "code",
   "execution_count": 13,
   "id": "f3a34e6f",
   "metadata": {},
   "outputs": [],
   "source": [
    "new_file.close()"
   ]
  },
  {
   "cell_type": "markdown",
   "id": "cdf53437",
   "metadata": {},
   "source": [
    "### Expressão with"
   ]
  },
  {
   "cell_type": "markdown",
   "id": "7776fd53",
   "metadata": {},
   "source": [
    "Quando usada, não é necessário fechar com close() um arquivo sempre que terminar sua manipulação, tudo é feito automaticamente"
   ]
  },
  {
   "cell_type": "code",
   "execution_count": 26,
   "id": "509125a8",
   "metadata": {},
   "outputs": [],
   "source": [
    "import pandas as pd"
   ]
  },
  {
   "cell_type": "code",
   "execution_count": 27,
   "id": "7b9ece00",
   "metadata": {},
   "outputs": [],
   "source": [
    "with open(\"arquivos/python.txt\", \"r\") as file:\n",
    "    content = file.read()"
   ]
  },
  {
   "cell_type": "code",
   "execution_count": 28,
   "id": "69db29c6",
   "metadata": {},
   "outputs": [
    {
     "data": {
      "text/plain": [
       "'Python é uma linguagem poderosa Python é usado em Ciência de Dados Estude Python '"
      ]
     },
     "execution_count": 28,
     "metadata": {},
     "output_type": "execute_result"
    }
   ],
   "source": [
    "content"
   ]
  },
  {
   "cell_type": "code",
   "execution_count": 29,
   "id": "a53cf595",
   "metadata": {},
   "outputs": [
    {
     "data": {
      "text/plain": [
       "81"
      ]
     },
     "execution_count": 29,
     "metadata": {},
     "output_type": "execute_result"
    }
   ],
   "source": [
    "len(content)"
   ]
  },
  {
   "cell_type": "code",
   "execution_count": 30,
   "id": "4a5d3cfd",
   "metadata": {},
   "outputs": [],
   "source": [
    "with open(\"arquivos/Current_Employee_Names__Salaries__and_Position_Titles_20240107.csv\", \"r\") as file:\n",
    "    table = pd.read_csv(file)\n",
    "    job_titles = table['Job Titles'].value_counts()"
   ]
  },
  {
   "cell_type": "code",
   "execution_count": 31,
   "id": "3d3ec669",
   "metadata": {},
   "outputs": [
    {
     "data": {
      "text/html": [
       "<div>\n",
       "<style scoped>\n",
       "    .dataframe tbody tr th:only-of-type {\n",
       "        vertical-align: middle;\n",
       "    }\n",
       "\n",
       "    .dataframe tbody tr th {\n",
       "        vertical-align: top;\n",
       "    }\n",
       "\n",
       "    .dataframe thead th {\n",
       "        text-align: right;\n",
       "    }\n",
       "</style>\n",
       "<table border=\"1\" class=\"dataframe\">\n",
       "  <thead>\n",
       "    <tr style=\"text-align: right;\">\n",
       "      <th></th>\n",
       "      <th>Name</th>\n",
       "      <th>Job Titles</th>\n",
       "      <th>Department</th>\n",
       "      <th>Full or Part-Time</th>\n",
       "      <th>Salary or Hourly</th>\n",
       "      <th>Typical Hours</th>\n",
       "      <th>Annual Salary</th>\n",
       "      <th>Hourly Rate</th>\n",
       "    </tr>\n",
       "  </thead>\n",
       "  <tbody>\n",
       "    <tr>\n",
       "      <th>0</th>\n",
       "      <td>RAVINDRAN, POOJA</td>\n",
       "      <td>LEGISLATIVE AIDE</td>\n",
       "      <td>CITY COUNCIL</td>\n",
       "      <td>F</td>\n",
       "      <td>SALARY</td>\n",
       "      <td>NaN</td>\n",
       "      <td>82392.00</td>\n",
       "      <td>NaN</td>\n",
       "    </tr>\n",
       "    <tr>\n",
       "      <th>1</th>\n",
       "      <td>TOVAR, JUAN T</td>\n",
       "      <td>LEGISLATIVE AIDE</td>\n",
       "      <td>CITY COUNCIL</td>\n",
       "      <td>F</td>\n",
       "      <td>SALARY</td>\n",
       "      <td>NaN</td>\n",
       "      <td>49992.00</td>\n",
       "      <td>NaN</td>\n",
       "    </tr>\n",
       "    <tr>\n",
       "      <th>2</th>\n",
       "      <td>LOPEZ, HUGO A</td>\n",
       "      <td>ALDERMANIC AIDE</td>\n",
       "      <td>CITY COUNCIL</td>\n",
       "      <td>P</td>\n",
       "      <td>HOURLY</td>\n",
       "      <td>10.0</td>\n",
       "      <td>NaN</td>\n",
       "      <td>16.00</td>\n",
       "    </tr>\n",
       "    <tr>\n",
       "      <th>3</th>\n",
       "      <td>PUEBLA, SANDRA</td>\n",
       "      <td>ALDERMANIC AIDE</td>\n",
       "      <td>CITY COUNCIL</td>\n",
       "      <td>P</td>\n",
       "      <td>HOURLY</td>\n",
       "      <td>20.0</td>\n",
       "      <td>NaN</td>\n",
       "      <td>36.80</td>\n",
       "    </tr>\n",
       "    <tr>\n",
       "      <th>4</th>\n",
       "      <td>GONZALEZ, MICHAEL A</td>\n",
       "      <td>POOL MOTOR TRUCK DRIVER</td>\n",
       "      <td>DEPARTMENT OF STREETS AND SANITATION</td>\n",
       "      <td>F</td>\n",
       "      <td>HOURLY</td>\n",
       "      <td>40.0</td>\n",
       "      <td>NaN</td>\n",
       "      <td>45.98</td>\n",
       "    </tr>\n",
       "    <tr>\n",
       "      <th>...</th>\n",
       "      <td>...</td>\n",
       "      <td>...</td>\n",
       "      <td>...</td>\n",
       "      <td>...</td>\n",
       "      <td>...</td>\n",
       "      <td>...</td>\n",
       "      <td>...</td>\n",
       "      <td>...</td>\n",
       "    </tr>\n",
       "    <tr>\n",
       "      <th>32025</th>\n",
       "      <td>VELAZQUEZ, ALEXANDER</td>\n",
       "      <td>POLICE OFFICER</td>\n",
       "      <td>CHICAGO POLICE DEPARTMENT</td>\n",
       "      <td>F</td>\n",
       "      <td>SALARY</td>\n",
       "      <td>NaN</td>\n",
       "      <td>79974.00</td>\n",
       "      <td>NaN</td>\n",
       "    </tr>\n",
       "    <tr>\n",
       "      <th>32026</th>\n",
       "      <td>KITTRELL, CRYSTINA M</td>\n",
       "      <td>POLICE OFFICER</td>\n",
       "      <td>CHICAGO POLICE DEPARTMENT</td>\n",
       "      <td>F</td>\n",
       "      <td>SALARY</td>\n",
       "      <td>NaN</td>\n",
       "      <td>97974.00</td>\n",
       "      <td>NaN</td>\n",
       "    </tr>\n",
       "    <tr>\n",
       "      <th>32027</th>\n",
       "      <td>SCHNIER, BRIAN T</td>\n",
       "      <td>SERGEANT</td>\n",
       "      <td>CHICAGO POLICE DEPARTMENT</td>\n",
       "      <td>F</td>\n",
       "      <td>SALARY</td>\n",
       "      <td>NaN</td>\n",
       "      <td>133860.00</td>\n",
       "      <td>NaN</td>\n",
       "    </tr>\n",
       "    <tr>\n",
       "      <th>32028</th>\n",
       "      <td>GONZALEZ, RAFAEL</td>\n",
       "      <td>POLICE OFFICER</td>\n",
       "      <td>CHICAGO POLICE DEPARTMENT</td>\n",
       "      <td>F</td>\n",
       "      <td>SALARY</td>\n",
       "      <td>NaN</td>\n",
       "      <td>56040.00</td>\n",
       "      <td>NaN</td>\n",
       "    </tr>\n",
       "    <tr>\n",
       "      <th>32029</th>\n",
       "      <td>POWELL, TIMOTHY M</td>\n",
       "      <td>CHIEF OPERATING ENGINEER</td>\n",
       "      <td>DEPARTMENT OF FLEET AND FACILITY MANAGEMENT</td>\n",
       "      <td>F</td>\n",
       "      <td>SALARY</td>\n",
       "      <td>NaN</td>\n",
       "      <td>143228.76</td>\n",
       "      <td>NaN</td>\n",
       "    </tr>\n",
       "  </tbody>\n",
       "</table>\n",
       "<p>32030 rows × 8 columns</p>\n",
       "</div>"
      ],
      "text/plain": [
       "                       Name                Job Titles  \\\n",
       "0          RAVINDRAN, POOJA          LEGISLATIVE AIDE   \n",
       "1             TOVAR, JUAN T          LEGISLATIVE AIDE   \n",
       "2             LOPEZ, HUGO A           ALDERMANIC AIDE   \n",
       "3            PUEBLA, SANDRA           ALDERMANIC AIDE   \n",
       "4       GONZALEZ, MICHAEL A   POOL MOTOR TRUCK DRIVER   \n",
       "...                     ...                       ...   \n",
       "32025  VELAZQUEZ, ALEXANDER            POLICE OFFICER   \n",
       "32026  KITTRELL, CRYSTINA M            POLICE OFFICER   \n",
       "32027      SCHNIER, BRIAN T                  SERGEANT   \n",
       "32028      GONZALEZ, RAFAEL            POLICE OFFICER   \n",
       "32029     POWELL, TIMOTHY M  CHIEF OPERATING ENGINEER   \n",
       "\n",
       "                                        Department Full or Part-Time  \\\n",
       "0                                     CITY COUNCIL                 F   \n",
       "1                                     CITY COUNCIL                 F   \n",
       "2                                     CITY COUNCIL                 P   \n",
       "3                                     CITY COUNCIL                 P   \n",
       "4             DEPARTMENT OF STREETS AND SANITATION                 F   \n",
       "...                                            ...               ...   \n",
       "32025                    CHICAGO POLICE DEPARTMENT                 F   \n",
       "32026                    CHICAGO POLICE DEPARTMENT                 F   \n",
       "32027                    CHICAGO POLICE DEPARTMENT                 F   \n",
       "32028                    CHICAGO POLICE DEPARTMENT                 F   \n",
       "32029  DEPARTMENT OF FLEET AND FACILITY MANAGEMENT                 F   \n",
       "\n",
       "      Salary or Hourly  Typical Hours  Annual Salary  Hourly Rate  \n",
       "0               SALARY            NaN       82392.00          NaN  \n",
       "1               SALARY            NaN       49992.00          NaN  \n",
       "2               HOURLY           10.0            NaN        16.00  \n",
       "3               HOURLY           20.0            NaN        36.80  \n",
       "4               HOURLY           40.0            NaN        45.98  \n",
       "...                ...            ...            ...          ...  \n",
       "32025           SALARY            NaN       79974.00          NaN  \n",
       "32026           SALARY            NaN       97974.00          NaN  \n",
       "32027           SALARY            NaN      133860.00          NaN  \n",
       "32028           SALARY            NaN       56040.00          NaN  \n",
       "32029           SALARY            NaN      143228.76          NaN  \n",
       "\n",
       "[32030 rows x 8 columns]"
      ]
     },
     "execution_count": 31,
     "metadata": {},
     "output_type": "execute_result"
    }
   ],
   "source": [
    "table"
   ]
  },
  {
   "cell_type": "code",
   "execution_count": 32,
   "id": "963f90ac",
   "metadata": {},
   "outputs": [
    {
     "data": {
      "text/plain": [
       "Job Titles\n",
       "POLICE OFFICER                            8453\n",
       "FIREFIGHTER-EMT                           1491\n",
       "SERGEANT                                  1282\n",
       "POLICE OFFICER (ASSIGNED AS DETECTIVE)    1124\n",
       "POOL MOTOR TRUCK DRIVER                   1041\n",
       "                                          ... \n",
       "DIR OF ATTY RECRUITMENT & PROF DEV           1\n",
       "CENTRAL LIBRARY DIRECTOR                     1\n",
       "PUBLIC RELATIONS REPRESENTATIVE I            1\n",
       "FIRST DEPUTY CHIEF OF STAFF                  1\n",
       "MGR OF FOOD PROTECTION SERVICES              1\n",
       "Name: count, Length: 1122, dtype: int64"
      ]
     },
     "execution_count": 32,
     "metadata": {},
     "output_type": "execute_result"
    }
   ],
   "source": [
    "job_titles"
   ]
  },
  {
   "cell_type": "code",
   "execution_count": null,
   "id": "1fd10c43",
   "metadata": {},
   "outputs": [],
   "source": []
  }
 ],
 "metadata": {
  "kernelspec": {
   "display_name": "Python 3 (ipykernel)",
   "language": "python",
   "name": "python3"
  },
  "language_info": {
   "codemirror_mode": {
    "name": "ipython",
    "version": 3
   },
   "file_extension": ".py",
   "mimetype": "text/x-python",
   "name": "python",
   "nbconvert_exporter": "python",
   "pygments_lexer": "ipython3",
   "version": "3.11.5"
  }
 },
 "nbformat": 4,
 "nbformat_minor": 5
}
