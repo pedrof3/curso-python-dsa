{
 "cells": [
  {
   "cell_type": "markdown",
   "id": "59970b5c",
   "metadata": {},
   "source": [
    "### Exibe caractere por caractere de uma string"
   ]
  },
  {
   "cell_type": "code",
   "execution_count": 1,
   "id": "e78f3c6b",
   "metadata": {},
   "outputs": [
    {
     "name": "stdout",
     "output_type": "stream",
     "text": [
      "M\n",
      "a\n",
      "r\n",
      "i\n",
      "a\n"
     ]
    }
   ],
   "source": [
    "nome = \"Maria\"\n",
    "\n",
    "for letra in nome:\n",
    "    print(letra)"
   ]
  },
  {
   "cell_type": "markdown",
   "id": "61074db1",
   "metadata": {},
   "source": [
    "### Loops aninhados usados para organização sequencial de um vetor com inteiros"
   ]
  },
  {
   "cell_type": "code",
   "execution_count": 9,
   "id": "f399cf64",
   "metadata": {},
   "outputs": [
    {
     "name": "stdout",
     "output_type": "stream",
     "text": [
      "[1, 2, 3, 8, 9, 12, 15, 17, 20]\n"
     ]
    }
   ],
   "source": [
    "arr = [12, 8, 3, 15, 2, 17, 1, 20, 9]\n",
    "\n",
    "for i in range(len(arr)):\n",
    "    for j in range(i+1, len(arr)):\n",
    "        if arr[i] > arr[j]:\n",
    "            arr[i] ,arr[j] = arr[j], arr[i]\n",
    "            \n",
    "print(arr)\n"
   ]
  },
  {
   "cell_type": "markdown",
   "id": "23167d97",
   "metadata": {},
   "source": [
    "### Adiciona os valores primos do range de 1 a 100 em uma lista"
   ]
  },
  {
   "cell_type": "code",
   "execution_count": 10,
   "id": "4fac30bf",
   "metadata": {},
   "outputs": [
    {
     "data": {
      "text/plain": [
       "[2,\n",
       " 3,\n",
       " 5,\n",
       " 7,\n",
       " 11,\n",
       " 13,\n",
       " 17,\n",
       " 19,\n",
       " 23,\n",
       " 29,\n",
       " 31,\n",
       " 37,\n",
       " 41,\n",
       " 43,\n",
       " 47,\n",
       " 53,\n",
       " 59,\n",
       " 61,\n",
       " 67,\n",
       " 71,\n",
       " 73,\n",
       " 79,\n",
       " 83,\n",
       " 89,\n",
       " 97]"
      ]
     },
     "execution_count": 10,
     "metadata": {},
     "output_type": "execute_result"
    }
   ],
   "source": [
    "primos = []\n",
    "\n",
    "for p in range(1, 101):\n",
    "    qtd = 0\n",
    "    for q in range(p, 0, -1):\n",
    "        if p % q == 0:\n",
    "            qtd += 1\n",
    "    if qtd == 2:\n",
    "        primos.append(p)\n",
    "        \n",
    "primos\n",
    "        "
   ]
  },
  {
   "cell_type": "code",
   "execution_count": null,
   "id": "461dc842",
   "metadata": {},
   "outputs": [],
   "source": []
  }
 ],
 "metadata": {
  "kernelspec": {
   "display_name": "Python 3 (ipykernel)",
   "language": "python",
   "name": "python3"
  },
  "language_info": {
   "codemirror_mode": {
    "name": "ipython",
    "version": 3
   },
   "file_extension": ".py",
   "mimetype": "text/x-python",
   "name": "python",
   "nbconvert_exporter": "python",
   "pygments_lexer": "ipython3",
   "version": "3.11.5"
  }
 },
 "nbformat": 4,
 "nbformat_minor": 5
}
