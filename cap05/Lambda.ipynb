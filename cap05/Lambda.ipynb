{
 "cells": [
  {
   "cell_type": "markdown",
   "id": "73ea7bb3",
   "metadata": {},
   "source": [
    "## Funções Lambda"
   ]
  },
  {
   "cell_type": "code",
   "execution_count": 1,
   "id": "b9814866",
   "metadata": {},
   "outputs": [
    {
     "data": {
      "text/plain": [
       "43"
      ]
     },
     "execution_count": 1,
     "metadata": {},
     "output_type": "execute_result"
    }
   ],
   "source": [
    "# Declara uma função utilizando duas linhas\n",
    "def somaDez(num):\n",
    "    return num + 10\n",
    "\n",
    "somaDez(33)"
   ]
  },
  {
   "cell_type": "code",
   "execution_count": 2,
   "id": "de82fc3a",
   "metadata": {},
   "outputs": [
    {
     "data": {
      "text/plain": [
       "28"
      ]
     },
     "execution_count": 2,
     "metadata": {},
     "output_type": "execute_result"
    }
   ],
   "source": [
    "# Declara uma função que faz a mesma coisa que a anterior, só que apenas em uma linha\n",
    "def somaDez(num): return num + 10\n",
    "\n",
    "somaDez(18)"
   ]
  },
  {
   "cell_type": "code",
   "execution_count": 5,
   "id": "3b63eccf",
   "metadata": {
    "scrolled": true
   },
   "outputs": [
    {
     "data": {
      "text/plain": [
       "100"
      ]
     },
     "execution_count": 5,
     "metadata": {},
     "output_type": "execute_result"
    }
   ],
   "source": [
    "# Expressão lambda é o equivalente a funções anônimas em python\n",
    "somaDez = lambda num : num + 10\n",
    "somaDez(90)"
   ]
  },
  {
   "cell_type": "code",
   "execution_count": null,
   "id": "4bc6112c",
   "metadata": {},
   "outputs": [],
   "source": []
  }
 ],
 "metadata": {
  "kernelspec": {
   "display_name": "Python 3 (ipykernel)",
   "language": "python",
   "name": "python3"
  },
  "language_info": {
   "codemirror_mode": {
    "name": "ipython",
    "version": 3
   },
   "file_extension": ".py",
   "mimetype": "text/x-python",
   "name": "python",
   "nbconvert_exporter": "python",
   "pygments_lexer": "ipython3",
   "version": "3.11.5"
  }
 },
 "nbformat": 4,
 "nbformat_minor": 5
}
