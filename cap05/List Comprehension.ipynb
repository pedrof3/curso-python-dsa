{
 "cells": [
  {
   "cell_type": "markdown",
   "id": "043e942a",
   "metadata": {},
   "source": [
    "## List Comprehension\n",
    " List comprehension é uma maneira de criar listas usando uma única linha de código, o que pode ser mais claro e compacto do que usar loops tradicionais.\n"
   ]
  },
  {
   "cell_type": "code",
   "execution_count": 5,
   "id": "9e85f9f9",
   "metadata": {},
   "outputs": [
    {
     "data": {
      "text/plain": [
       "[1, 2, 3, 4, 5, 6, 7, 8, 9, 10, 11, 12, 13, 14, 15]"
      ]
     },
     "execution_count": 5,
     "metadata": {},
     "output_type": "execute_result"
    }
   ],
   "source": [
    "# Lista básica, com inteiros de 1 a 15\n",
    "lista = [x for x in range(1, 16)]\n",
    "lista"
   ]
  },
  {
   "cell_type": "code",
   "execution_count": 4,
   "id": "44d1c788",
   "metadata": {},
   "outputs": [
    {
     "data": {
      "text/plain": [
       "[2, 4, 6, 8, 10, 12, 14]"
      ]
     },
     "execution_count": 4,
     "metadata": {},
     "output_type": "execute_result"
    }
   ],
   "source": [
    "# Cria uma lista com os valores pares da lista criada acima\n",
    "listaPares = [y for y in lista if y % 2 == 0]\n",
    "listaPares"
   ]
  },
  {
   "cell_type": "code",
   "execution_count": 11,
   "id": "c716d45a",
   "metadata": {},
   "outputs": [
    {
     "data": {
      "text/plain": [
       "['pedro', 'paulo']"
      ]
     },
     "execution_count": 11,
     "metadata": {},
     "output_type": "execute_result"
    }
   ],
   "source": [
    "# Cria uma lista com os membros da família, e com list comprehension, uma lista com os membros que começam com a letra \"p\"\n",
    "familia = [\"pedro\", \"mila\", \"andré\", \"paulo\"]\n",
    "inicialP = [x for x in familia if \"p\" in x]\n",
    "inicialP"
   ]
  },
  {
   "cell_type": "code",
   "execution_count": null,
   "id": "df4ec883",
   "metadata": {},
   "outputs": [],
   "source": []
  }
 ],
 "metadata": {
  "kernelspec": {
   "display_name": "Python 3 (ipykernel)",
   "language": "python",
   "name": "python3"
  },
  "language_info": {
   "codemirror_mode": {
    "name": "ipython",
    "version": 3
   },
   "file_extension": ".py",
   "mimetype": "text/x-python",
   "name": "python",
   "nbconvert_exporter": "python",
   "pygments_lexer": "ipython3",
   "version": "3.11.5"
  }
 },
 "nbformat": 4,
 "nbformat_minor": 5
}
