{
 "cells": [
  {
   "cell_type": "markdown",
   "id": "ddc593a2",
   "metadata": {},
   "source": [
    "## Condicionail If"
   ]
  },
  {
   "cell_type": "code",
   "execution_count": 1,
   "id": "7198b908",
   "metadata": {},
   "outputs": [
    {
     "name": "stdout",
     "output_type": "stream",
     "text": [
      "SIM\n"
     ]
    }
   ],
   "source": [
    "if 10 > 8:\n",
    "    print(\"SIM\")\n",
    "else:\n",
    "    print(\"NAO\")"
   ]
  },
  {
   "cell_type": "code",
   "execution_count": 5,
   "id": "141c2e9a",
   "metadata": {},
   "outputs": [
    {
     "name": "stdout",
     "output_type": "stream",
     "text": [
      "Nome é pedro\n"
     ]
    }
   ],
   "source": [
    "nome = 'pedro'\n",
    "if nome == \"pedro\":\n",
    "    print(\"Nome é pedro\")\n",
    "else:\n",
    "    print(\"Não sei seu nome\")"
   ]
  },
  {
   "cell_type": "markdown",
   "id": "9fd465c4",
   "metadata": {},
   "source": [
    "## Operadores Relacionais"
   ]
  },
  {
   "cell_type": "code",
   "execution_count": 6,
   "id": "da2b5c1d",
   "metadata": {},
   "outputs": [
    {
     "data": {
      "text/plain": [
       "False"
      ]
     },
     "execution_count": 6,
     "metadata": {},
     "output_type": "execute_result"
    }
   ],
   "source": [
    "10 > 10"
   ]
  },
  {
   "cell_type": "code",
   "execution_count": 7,
   "id": "37e08926",
   "metadata": {},
   "outputs": [
    {
     "data": {
      "text/plain": [
       "True"
      ]
     },
     "execution_count": 7,
     "metadata": {},
     "output_type": "execute_result"
    }
   ],
   "source": [
    "3 < 6"
   ]
  },
  {
   "cell_type": "code",
   "execution_count": 8,
   "id": "1a54bc88",
   "metadata": {},
   "outputs": [
    {
     "data": {
      "text/plain": [
       "True"
      ]
     },
     "execution_count": 8,
     "metadata": {},
     "output_type": "execute_result"
    }
   ],
   "source": [
    "2 >= 1"
   ]
  },
  {
   "cell_type": "code",
   "execution_count": 9,
   "id": "801632df",
   "metadata": {},
   "outputs": [
    {
     "data": {
      "text/plain": [
       "True"
      ]
     },
     "execution_count": 9,
     "metadata": {},
     "output_type": "execute_result"
    }
   ],
   "source": [
    "4 <= 4"
   ]
  },
  {
   "cell_type": "code",
   "execution_count": 13,
   "id": "aa7bb7a3",
   "metadata": {},
   "outputs": [
    {
     "name": "stdout",
     "output_type": "stream",
     "text": [
      "diferentes\n"
     ]
    }
   ],
   "source": [
    "if 1 == 2:\n",
    "    print('iguais')\n",
    "else:\n",
    "    print('diferentes')"
   ]
  },
  {
   "cell_type": "code",
   "execution_count": 14,
   "id": "aaf7761d",
   "metadata": {},
   "outputs": [
    {
     "name": "stdout",
     "output_type": "stream",
     "text": [
      "Diferentes\n"
     ]
    }
   ],
   "source": [
    "if 5 != 90:\n",
    "    print(\"Diferentes\")\n",
    "else:\n",
    "    print(\"Iguais\")"
   ]
  },
  {
   "cell_type": "markdown",
   "id": "9427d2a5",
   "metadata": {},
   "source": [
    "## Condicioanais Aninhados"
   ]
  },
  {
   "cell_type": "code",
   "execution_count": 17,
   "id": "692320cd",
   "metadata": {},
   "outputs": [
    {
     "name": "stdout",
     "output_type": "stream",
     "text": [
      "Idoso\n"
     ]
    }
   ],
   "source": [
    "idade = 93\n",
    "if idade < 18:\n",
    "    if idade < 14:\n",
    "        print(\"Criança\")\n",
    "    else:\n",
    "        print(\"Adolescente\")\n",
    "else:\n",
    "    if idade > 59:\n",
    "        print(\"Idoso\")\n",
    "    else:\n",
    "        print(\"Adulto\")"
   ]
  },
  {
   "cell_type": "markdown",
   "id": "804837c9",
   "metadata": {},
   "source": [
    "## Operadores Lógicos"
   ]
  },
  {
   "cell_type": "code",
   "execution_count": 18,
   "id": "24138ab7",
   "metadata": {},
   "outputs": [
    {
     "name": "stdout",
     "output_type": "stream",
     "text": [
      "Vai jogar basquete\n"
     ]
    }
   ],
   "source": [
    "idade = 20\n",
    "altura = 1.86\n",
    "\n",
    "if idade > 18 and altura > 1.8:\n",
    "    print(\"Vai jogar basquete\")\n",
    "else:\n",
    "    print(\"Vai jogar futebol\")"
   ]
  },
  {
   "cell_type": "code",
   "execution_count": 23,
   "id": "fec3ceb8",
   "metadata": {},
   "outputs": [
    {
     "name": "stdout",
     "output_type": "stream",
     "text": [
      "Nome iniciado com J ou T\n"
     ]
    }
   ],
   "source": [
    "nome = \"Jose\"\n",
    "nome = nome.lower()\n",
    "\n",
    "if nome[0] == \"j\" or nome[0] == \"t\":\n",
    "    print(\"Nome iniciado com J ou T\")\n",
    "else:\n",
    "    print(\"Nome iniciado com outra letra\")\n"
   ]
  },
  {
   "cell_type": "code",
   "execution_count": null,
   "id": "363bdeae",
   "metadata": {},
   "outputs": [],
   "source": []
  }
 ],
 "metadata": {
  "kernelspec": {
   "display_name": "Python 3 (ipykernel)",
   "language": "python",
   "name": "python3"
  },
  "language_info": {
   "codemirror_mode": {
    "name": "ipython",
    "version": 3
   },
   "file_extension": ".py",
   "mimetype": "text/x-python",
   "name": "python",
   "nbconvert_exporter": "python",
   "pygments_lexer": "ipython3",
   "version": "3.11.5"
  }
 },
 "nbformat": 4,
 "nbformat_minor": 5
}
