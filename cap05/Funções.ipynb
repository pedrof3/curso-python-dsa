{
 "cells": [
  {
   "cell_type": "markdown",
   "id": "e14271d8",
   "metadata": {},
   "source": [
    "## Funções"
   ]
  },
  {
   "cell_type": "markdown",
   "id": "d338fb50",
   "metadata": {},
   "source": [
    "### Função básica, retorna a soma entre dois valores"
   ]
  },
  {
   "cell_type": "code",
   "execution_count": 2,
   "id": "4fcb594a",
   "metadata": {},
   "outputs": [
    {
     "data": {
      "text/plain": [
       "33"
      ]
     },
     "execution_count": 2,
     "metadata": {},
     "output_type": "execute_result"
    }
   ],
   "source": [
    "def soma(a, b):\n",
    "    return a + b\n",
    "\n",
    "soma(21, 12)"
   ]
  },
  {
   "cell_type": "markdown",
   "id": "cad9036d",
   "metadata": {},
   "source": [
    "### Diferença de escopo global x local"
   ]
  },
  {
   "cell_type": "code",
   "execution_count": 3,
   "id": "d779848c",
   "metadata": {},
   "outputs": [
    {
     "data": {
      "text/plain": [
       "16"
      ]
     },
     "execution_count": 3,
     "metadata": {},
     "output_type": "execute_result"
    }
   ],
   "source": [
    "def multiplicacao(n1, n2):\n",
    "    result = n1 * n2\n",
    "    return result\n",
    "\n",
    "multiplicacao(4, 4)"
   ]
  },
  {
   "cell_type": "code",
   "execution_count": 5,
   "id": "05de3b18",
   "metadata": {},
   "outputs": [
    {
     "ename": "NameError",
     "evalue": "name 'result' is not defined",
     "output_type": "error",
     "traceback": [
      "\u001b[0;31m---------------------------------------------------------------------------\u001b[0m",
      "\u001b[0;31mNameError\u001b[0m                                 Traceback (most recent call last)",
      "Cell \u001b[0;32mIn[5], line 2\u001b[0m\n\u001b[1;32m      1\u001b[0m \u001b[38;5;66;03m# A variável result foi criada dentro do escopo da função multiplicacao, por isso, não pode ser acessada de fora dela\u001b[39;00m\n\u001b[0;32m----> 2\u001b[0m result\n",
      "\u001b[0;31mNameError\u001b[0m: name 'result' is not defined"
     ]
    }
   ],
   "source": [
    "# A variável result foi criada dentro do escopo da função multiplicacao, por isso, não pode ser acessada de fora dela\n",
    "result"
   ]
  },
  {
   "cell_type": "code",
   "execution_count": 1,
   "id": "f17e58db",
   "metadata": {},
   "outputs": [
    {
     "data": {
      "text/plain": [
       "['Apenas', 'um', 'teste', 'da', 'função', 'split']"
      ]
     },
     "execution_count": 1,
     "metadata": {},
     "output_type": "execute_result"
    }
   ],
   "source": [
    "def splitLetra(texto):\n",
    "    return texto.split()\n",
    "\n",
    "splitLetra('Apenas um teste da função split')"
   ]
  },
  {
   "cell_type": "markdown",
   "id": "d6933960",
   "metadata": {},
   "source": [
    "## Funções built-in"
   ]
  },
  {
   "cell_type": "markdown",
   "id": "b0b47111",
   "metadata": {},
   "source": [
    "### Identifica maior e menor valor em um array"
   ]
  },
  {
   "cell_type": "code",
   "execution_count": 16,
   "id": "bc653e5b",
   "metadata": {},
   "outputs": [
    {
     "data": {
      "text/plain": [
       "80"
      ]
     },
     "execution_count": 16,
     "metadata": {},
     "output_type": "execute_result"
    }
   ],
   "source": [
    "arr = [12, 4, 8, 80, 7, 32]\n",
    "\n",
    "max(arr)"
   ]
  },
  {
   "cell_type": "code",
   "execution_count": 15,
   "id": "f79bb8f6",
   "metadata": {},
   "outputs": [
    {
     "data": {
      "text/plain": [
       "4"
      ]
     },
     "execution_count": 15,
     "metadata": {},
     "output_type": "execute_result"
    }
   ],
   "source": [
    "min(arr)"
   ]
  },
  {
   "cell_type": "markdown",
   "id": "53677f5e",
   "metadata": {},
   "source": [
    "### Conversão de tipos"
   ]
  },
  {
   "cell_type": "code",
   "execution_count": 17,
   "id": "8dfd8289",
   "metadata": {},
   "outputs": [
    {
     "data": {
      "text/plain": [
       "43"
      ]
     },
     "execution_count": 17,
     "metadata": {},
     "output_type": "execute_result"
    }
   ],
   "source": [
    "num = 43.89\n",
    "int(num)"
   ]
  },
  {
   "cell_type": "code",
   "execution_count": 19,
   "id": "3b598775",
   "metadata": {},
   "outputs": [
    {
     "data": {
      "text/plain": [
       "'43.89'"
      ]
     },
     "execution_count": 19,
     "metadata": {},
     "output_type": "execute_result"
    }
   ],
   "source": [
    "str(num)"
   ]
  },
  {
   "cell_type": "code",
   "execution_count": 20,
   "id": "600be3c4",
   "metadata": {},
   "outputs": [
    {
     "data": {
      "text/plain": [
       "True"
      ]
     },
     "execution_count": 20,
     "metadata": {},
     "output_type": "execute_result"
    }
   ],
   "source": [
    "bool(num)"
   ]
  },
  {
   "cell_type": "markdown",
   "id": "82db255b",
   "metadata": {},
   "source": [
    "### Criando funções usando outras funções"
   ]
  },
  {
   "cell_type": "markdown",
   "id": "7a3f251a",
   "metadata": {},
   "source": [
    "https://pypi.org/"
   ]
  },
  {
   "cell_type": "code",
   "execution_count": 26,
   "id": "7a17f57a",
   "metadata": {},
   "outputs": [],
   "source": [
    "import math\n",
    "\n",
    "quad = math.sqrt(9)"
   ]
  },
  {
   "cell_type": "code",
   "execution_count": 27,
   "id": "d780c99f",
   "metadata": {},
   "outputs": [
    {
     "data": {
      "text/plain": [
       "3.0"
      ]
     },
     "execution_count": 27,
     "metadata": {},
     "output_type": "execute_result"
    }
   ],
   "source": [
    "quad"
   ]
  },
  {
   "cell_type": "code",
   "execution_count": null,
   "id": "428b006e",
   "metadata": {},
   "outputs": [],
   "source": []
  }
 ],
 "metadata": {
  "kernelspec": {
   "display_name": "Python 3 (ipykernel)",
   "language": "python",
   "name": "python3"
  },
  "language_info": {
   "codemirror_mode": {
    "name": "ipython",
    "version": 3
   },
   "file_extension": ".py",
   "mimetype": "text/x-python",
   "name": "python",
   "nbconvert_exporter": "python",
   "pygments_lexer": "ipython3",
   "version": "3.11.5"
  }
 },
 "nbformat": 4,
 "nbformat_minor": 5
}
